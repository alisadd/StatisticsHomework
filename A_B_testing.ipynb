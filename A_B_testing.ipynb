{
 "cells": [
  {
   "cell_type": "code",
   "execution_count": null,
   "metadata": {
    "id": "_x7tk-ecXxYg"
   },
   "outputs": [],
   "source": [
    "import scipy.stats as st\n",
    "import matplotlib.pyplot as plt\n",
    "import numpy as np\n",
    "import pandas as pd"
   ]
  },
  {
   "cell_type": "markdown",
   "metadata": {
    "id": "OvBaLO4Z52mY"
   },
   "source": [
    "### **Завдання 16**  (3 бали)\n",
    "\n",
    "Керівництво магазину хоче перевірити чи новий банер на вітрині повпливає на те, чи люди будуть частіше заходити у їх магазин. Проконсультуйте керівництво.\n",
    "1. Які метрики потрібно міряти під час експерименту?\n",
    "2. Як досягти незалежності двох груп між собою та від інших факторів? \n",
    "3. Сформулюйте фінальне рішення - проводити чи не проводити експеримент і кроки експерименту."
   ]
  },
  {
   "cell_type": "markdown",
   "metadata": {
    "id": "xVEGpLhHbmA2"
   },
   "source": [
    "В усіх пунктах я відштовхуюсь від припущення, що експеримент проводиться в одному магазині, а не, наприклад, мережі.\n",
    "\n",
    "1. - загальна кількість унікальних відвідувань (Припускаю, що банер буде найбільше впливати лише під час першого відвідування кожної людини після його появи. Всі подальші рази на рішення тих самих людей відвідати магазин будуть більше впливати інші фактори);\n",
    "   - середня кількість відвідувань у день (середнє арифметичне);\n",
    "   - частка нових клієнтів в загальній кількості відвідувачів (Чи новий банер краще привертає увагу серед ширших верств населення);\n",
    "   - яка частка відвідувань закінчується покупкою (порівняти обидві групи. Наприклад, банер може привертати увагу, але бути misleading і люди будуть розчаровані тим, що не отримали очікуване)\n",
    "\n",
    "2.  Дослідження має проводитись за однаковий період часу, упродовж якого в магазині не має бути змін в асортименті та ціні товарів, нових акцій. Тривалість напевно має бути невелика, тиждень/два, оскільки по перше місцеві жителі які бувають у районі встигнуть ознайомитись з новим банером, по друге, менша вірогідність появи сторонніх факторів  населеному пункті. Окрім цього потрібно врахувати фактори надзвичайних ситуацій, оскільки такий експеримент не спрацює, якщо у населення різко зміняться потреби чи можливості, або ж у місті буде багато переселенців.\n",
    "\n",
    "3. Якщо на підготовчому етапі ми визначили, що суттєвих сторонніх впливів на час експерименту немає, то його можна проводити.\n",
    "  - Етап підготовки: визначаємо мету, метрики, способи оцінювання, розмір вибірки та час, необхідний на проведення експерименту. \n",
    "   - Етап реалізації: проводимо оцінювання відвідування із старим банером, далі оцінюється ті самі показники після появи нового.\n",
    "   - Етап аналізу: зібрані дані обраховуються та візуалізуються;\n",
    "   - Етап висновків: результати презентуються та обговорюються із власником магазину."
   ]
  },
  {
   "cell_type": "markdown",
   "metadata": {
    "id": "5TVF057d9R1-"
   },
   "source": [
    "### **Завдання 17**  (10 бали)\n",
    "\n",
    "1. (5 балів) Компанія хоче оновити сайт перегляду фільмів. Оновлення зробить сайт в рази швидшим. Керівництво припускає, що це оновлення вплине на купівлю послуг компанії (підписку). Зараз частка людей, які оформлюють підписку з тих, хто взагалі заходить на сайт = 43%. Проте оновлення буде потребувати додаткових вкладень у сервери, тому було вибрано межу +5% з якої зміна буде вигідна. Ви обговорили параметри для тесту і вирішили, що alpha = 3%, а beta = 10% (power = 90%). Скільки даних потрібно зібрати для експерименту?\n",
    "\n",
    "2. (5 балів) Експеримент був проведений. Проведіть тест. Прокоментуйте вибір тесту та його результат. Чи рекомендуєте вводити оновлення на всю систему? Дані зберігаються у датасеті:\n",
    "\n",
    "```\n",
    "df = pd.read_csv('https://github.com/NataliaNovosad/Datasets/blob/master/ABtest_movies.csv?raw=true')\n",
    "```\n",
    "Колонки: \n",
    "\n",
    "- user_id - ідентифікаток користувача\n",
    "- group - група - control/test\n",
    "- sign - мітка підписки - 1(підписка)/0(не підписка)\n"
   ]
  },
  {
   "cell_type": "markdown",
   "metadata": {
    "id": "zD6df8DEbd_3"
   },
   "source": [
    "#### 1"
   ]
  },
  {
   "cell_type": "code",
   "execution_count": null,
   "metadata": {
    "id": "_7Zuj7i6ySSR"
   },
   "outputs": [],
   "source": [
    "df = pd.read_csv('https://github.com/NataliaNovosad/Datasets/blob/master/ABtest_movies.csv?raw=true')"
   ]
  },
  {
   "cell_type": "code",
   "execution_count": null,
   "metadata": {
    "id": "cn-udqjUxLmN"
   },
   "outputs": [],
   "source": [
    "data_control = df.loc[df.group == 'control', 'sign']\n",
    "data_test = df.loc[df.group == 'test', 'sign']"
   ]
  },
  {
   "cell_type": "markdown",
   "metadata": {
    "id": "Sb0mj0Fa1bZ0"
   },
   "source": [
    "Я не до кінця зрозуміла чи можна порахувати розмір вибірки до проведення експерименту, коли у нас немає даних про середні значення. Тому я використала формулу з лекції. На сайті https://www.evanmiller.org/ розмір вибірки складає 2,344. За цією ж формулою вона складає 1288"
   ]
  },
  {
   "cell_type": "code",
   "execution_count": null,
   "metadata": {
    "colab": {
     "base_uri": "https://localhost:8080/"
    },
    "id": "TTVd5U0XxLsP",
    "outputId": "998238ea-8a4c-4028-dc49-63af45980687"
   },
   "outputs": [
    {
     "name": "stderr",
     "output_type": "stream",
     "text": [
      "/usr/local/lib/python3.7/dist-packages/statsmodels/tools/_testing.py:19: FutureWarning: pandas.util.testing is deprecated. Use the functions in the public API at pandas.testing instead.\n",
      "  import pandas.util.testing as tm\n"
     ]
    },
    {
     "data": {
      "text/plain": [
       "1288.6443517405726"
      ]
     },
     "execution_count": 4,
     "metadata": {},
     "output_type": "execute_result"
    }
   ],
   "source": [
    "from statsmodels.stats.power import zt_ind_solve_power\n",
    "alpha = 0.03\n",
    "power = 0.9\n",
    "zt_ind_solve_power(effect_size = (data_test.mean() - data_control.mean())/np.sqrt(data_test.var()/2 + data_control.var()/2),\n",
    "                   nobs1 = None, \n",
    "                   alpha = alpha, \n",
    "                   power = power,\n",
    "                   ratio = 1)"
   ]
  },
  {
   "cell_type": "markdown",
   "metadata": {
    "id": "9p-qnBU65UKS"
   },
   "source": [
    "Також в пошуках того як порахувати вибірку лише з тими параметрами які надані у пункті 1 я використала формулу з цього посту https://stackoverflow.com/questions/25657476/r-or-python-is-it-possible-to-get-the-necessary-sample-size-in-a-proportions-po (тут питання трохи про інше), результат якої виявився ближче до 2,344. Наскільки я зрозуміла p1 і p2 це пропорції конверсії в контрольній та тестовій групі, за якими розраховуються effect size"
   ]
  },
  {
   "cell_type": "code",
   "execution_count": null,
   "metadata": {
    "id": "_c5VU35uzzkz"
   },
   "outputs": [],
   "source": [
    "alpha = 0.03\n",
    "power = 0.9\n",
    "p1 = 0.43\n",
    "p2 = 0.48"
   ]
  },
  {
   "cell_type": "code",
   "execution_count": null,
   "metadata": {
    "colab": {
     "base_uri": "https://localhost:8080/"
    },
    "id": "F4SRpEX1U0Vb",
    "outputId": "ece0908d-da48-4499-a780-f0d376292888"
   },
   "outputs": [
    {
     "data": {
      "text/plain": [
       "2361.430529164826"
      ]
     },
     "execution_count": 6,
     "metadata": {},
     "output_type": "execute_result"
    }
   ],
   "source": [
    "import statsmodels.stats.api as sm\n",
    "es = sm.proportion_effectsize(p1, p2)\n",
    "sm.NormalIndPower().solve_power(es, power=power, alpha=alpha)"
   ]
  },
  {
   "cell_type": "markdown",
   "metadata": {
    "id": "8IpURR4hbiLh"
   },
   "source": [
    "#### 2"
   ]
  },
  {
   "cell_type": "code",
   "execution_count": null,
   "metadata": {
    "colab": {
     "base_uri": "https://localhost:8080/"
    },
    "id": "-0SKW7P2oBej",
    "outputId": "b57e7132-ccd3-443b-93bb-02d2c4cc216e"
   },
   "outputs": [
    {
     "name": "stdout",
     "output_type": "stream",
     "text": [
      "2945\n",
      "2987\n"
     ]
    }
   ],
   "source": [
    "print(len(data_control))\n",
    "print(len(data_test))"
   ]
  },
  {
   "cell_type": "code",
   "execution_count": null,
   "metadata": {
    "id": "tErEybi7CrbW"
   },
   "outputs": [],
   "source": [
    "ztest?"
   ]
  },
  {
   "cell_type": "code",
   "execution_count": null,
   "metadata": {
    "colab": {
     "base_uri": "https://localhost:8080/"
    },
    "id": "abL00bTkbclR",
    "outputId": "a4ebdb03-123e-4068-dee5-2cd18e324c5a"
   },
   "outputs": [
    {
     "data": {
      "text/plain": [
       "(5.23621680454302, 8.195070633553258e-08)"
      ]
     },
     "execution_count": 29,
     "metadata": {},
     "output_type": "execute_result"
    }
   ],
   "source": [
    "from statsmodels.stats.weightstats import ztest\n",
    "\n",
    "ztest(data_test, data_control, alternative = 'larger')\n"
   ]
  },
  {
   "cell_type": "code",
   "execution_count": null,
   "metadata": {
    "colab": {
     "base_uri": "https://localhost:8080/",
     "height": 282
    },
    "id": "QjPmBydycvwz",
    "outputId": "d3bf7fab-be69-4f42-9938-53399d1bd0cb"
   },
   "outputs": [
    {
     "name": "stdout",
     "output_type": "stream",
     "text": [
      "0.03970864793495799 0.09557412523661801\n"
     ]
    },
    {
     "data": {
      "image/png": "[encoded data removed]",
      "text/plain": [
       "<Figure size 432x288 with 1 Axes>"
      ]
     },
     "metadata": {
      "needs_background": "light"
     },
     "output_type": "display_data"
    }
   ],
   "source": [
    "n = len(data_test)\n",
    "t1, t2 = st.norm.interval(1-alpha, loc = data_test.mean() - data_control.mean(), scale = np.sqrt(data_test.var()/n + data_control.var()/n))\n",
    "print(t1, t2)\n",
    "\n",
    "x = [i/100 for i in range(-50,50,1)]\n",
    "density_values_norm = st.norm.pdf(x, loc = data_test.mean() - data_control.mean(), scale = np.sqrt(data_test.var()/n + data_control.var()/n))\n",
    "plt.plot(x, density_values_norm, c = \"b\", label = \"test\")\n",
    "plt.axvline(t1, c = \"b\", ls = \"--\")\n",
    "plt.axvline(t2, c = \"b\", ls = \"--\")\n",
    "plt.axvline(0, c = \"r\", ls = \"--\")\n",
    "\n",
    "plt.show()"
   ]
  },
  {
   "cell_type": "markdown",
   "metadata": {
    "id": "FOTaz83_rHnu"
   },
   "source": [
    "Для аналізу результатів експерименту я використала one sample z test, оскільки ми перевіряємо чи матиме позитивний вплив введення оновлення на вибірку (хоча з two sided він теж проходить). Тест показав, що p-value є дуже маленьким, що свідчить про суттєві відмінності у вибірках після оновлення сайту. На графіку видно, що встановлені інтервали довіри перевищують 0, а значить різниця між розподілами у контрольній і  тестовій вибірках є статистично значущою. Можна відкинути нульову гіпотезу та стверджувати, що частка людей, які будуть оформлювати підписку збільшиться."
   ]
  },
  {
   "cell_type": "code",
   "execution_count": null,
   "metadata": {
    "colab": {
     "base_uri": "https://localhost:8080/"
    },
    "id": "lBWH8iNgbGgg",
    "outputId": "a22e423b-571e-4f30-884c-030800f2e6c1"
   },
   "outputs": [
    {
     "data": {
      "text/plain": [
       "0.9989820990849836"
      ]
     },
     "execution_count": 44,
     "metadata": {},
     "output_type": "execute_result"
    }
   ],
   "source": [
    "from statsmodels.stats.power import zt_ind_solve_power, tt_ind_solve_power\n",
    "\n",
    "alpha = 0.03\n",
    "n = len(data_test)\n",
    "zt_ind_solve_power(effect_size = (data_test.mean() - data_control.mean())/np.sqrt(data_test.var()/2 + data_control.var()/2),\n",
    "                   nobs1 = n, \n",
    "                   alpha = alpha, \n",
    "                   power = None,\n",
    "                   ratio = 1)"
   ]
  },
  {
   "cell_type": "markdown",
   "metadata": {
    "id": "5mXM5ZZ85-Oh"
   },
   "source": [
    "### **Завдання 18**  (5 бали)\n",
    "\n",
    "Зробіть ANOVA аналіз для неперервної змінної LotArea залежно від категорій MSZoning. Прокоментуйте отримані результати. "
   ]
  },
  {
   "cell_type": "code",
   "execution_count": null,
   "metadata": {
    "colab": {
     "base_uri": "https://localhost:8080/",
     "height": 206
    },
    "id": "FCx1vUsOMx6A",
    "outputId": "8ba20126-d03f-411c-b11b-a0c02af42751"
   },
   "outputs": [
    {
     "data": {
      "text/html": [
       "\n",
       "  <div id=\"df-b99ed7b7-7c53-498a-8d22-dd753f9977df\">\n",
       "    <div class=\"colab-df-container\">\n",
       "      <div>\n",
       "<style scoped>\n",
       "    .dataframe tbody tr th:only-of-type {\n",
       "        vertical-align: middle;\n",
       "    }\n",
       "\n",
       "    .dataframe tbody tr th {\n",
       "        vertical-align: top;\n",
       "    }\n",
       "\n",
       "    .dataframe thead th {\n",
       "        text-align: right;\n",
       "    }\n",
       "</style>\n",
       "<table border=\"1\" class=\"dataframe\">\n",
       "  <thead>\n",
       "    <tr style=\"text-align: right;\">\n",
       "      <th></th>\n",
       "      <th>LotArea</th>\n",
       "      <th>MSZoning</th>\n",
       "    </tr>\n",
       "  </thead>\n",
       "  <tbody>\n",
       "    <tr>\n",
       "      <th>0</th>\n",
       "      <td>8450.0</td>\n",
       "      <td>RL</td>\n",
       "    </tr>\n",
       "    <tr>\n",
       "      <th>1</th>\n",
       "      <td>9600.0</td>\n",
       "      <td>RL</td>\n",
       "    </tr>\n",
       "    <tr>\n",
       "      <th>2</th>\n",
       "      <td>11250.0</td>\n",
       "      <td>RL</td>\n",
       "    </tr>\n",
       "    <tr>\n",
       "      <th>3</th>\n",
       "      <td>9550.0</td>\n",
       "      <td>RL</td>\n",
       "    </tr>\n",
       "    <tr>\n",
       "      <th>4</th>\n",
       "      <td>14260.0</td>\n",
       "      <td>RL</td>\n",
       "    </tr>\n",
       "  </tbody>\n",
       "</table>\n",
       "</div>\n",
       "      <button class=\"colab-df-convert\" onclick=\"convertToInteractive('df-b99ed7b7-7c53-498a-8d22-dd753f9977df')\"\n",
       "              title=\"Convert this dataframe to an interactive table.\"\n",
       "              style=\"display:none;\">\n",
       "        \n",
       "  <svg xmlns=\"http://www.w3.org/2000/svg\" height=\"24px\"viewBox=\"0 0 24 24\"\n",
       "       width=\"24px\">\n",
       "    <path d=\"M0 0h24v24H0V0z\" fill=\"none\"/>\n",
       "    <path d=\"M18.56 5.44l.94 2.06.94-2.06 2.06-.94-2.06-.94-.94-2.06-.94 2.06-2.06.94zm-11 1L8.5 8.5l.94-2.06 2.06-.94-2.06-.94L8.5 2.5l-.94 2.06-2.06.94zm10 10l.94 2.06.94-2.06 2.06-.94-2.06-.94-.94-2.06-.94 2.06-2.06.94z\"/><path d=\"M17.41 7.96l-1.37-1.37c-.4-.4-.92-.59-1.43-.59-.52 0-1.04.2-1.43.59L10.3 9.45l-7.72 7.72c-.78.78-.78 2.05 0 2.83L4 21.41c.39.39.9.59 1.41.59.51 0 1.02-.2 1.41-.59l7.78-7.78 2.81-2.81c.8-.78.8-2.07 0-2.86zM5.41 20L4 18.59l7.72-7.72 1.47 1.35L5.41 20z\"/>\n",
       "  </svg>\n",
       "      </button>\n",
       "      \n",
       "  <style>\n",
       "    .colab-df-container {\n",
       "      display:flex;\n",
       "      flex-wrap:wrap;\n",
       "      gap: 12px;\n",
       "    }\n",
       "\n",
       "    .colab-df-convert {\n",
       "      background-color: #E8F0FE;\n",
       "      border: none;\n",
       "      border-radius: 50%;\n",
       "      cursor: pointer;\n",
       "      display: none;\n",
       "      fill: #1967D2;\n",
       "      height: 32px;\n",
       "      padding: 0 0 0 0;\n",
       "      width: 32px;\n",
       "    }\n",
       "\n",
       "    .colab-df-convert:hover {\n",
       "      background-color: #E2EBFA;\n",
       "      box-shadow: 0px 1px 2px rgba(60, 64, 67, 0.3), 0px 1px 3px 1px rgba(60, 64, 67, 0.15);\n",
       "      fill: #174EA6;\n",
       "    }\n",
       "\n",
       "    [theme=dark] .colab-df-convert {\n",
       "      background-color: #3B4455;\n",
       "      fill: #D2E3FC;\n",
       "    }\n",
       "\n",
       "    [theme=dark] .colab-df-convert:hover {\n",
       "      background-color: #434B5C;\n",
       "      box-shadow: 0px 1px 3px 1px rgba(0, 0, 0, 0.15);\n",
       "      filter: drop-shadow(0px 1px 2px rgba(0, 0, 0, 0.3));\n",
       "      fill: #FFFFFF;\n",
       "    }\n",
       "  </style>\n",
       "\n",
       "      <script>\n",
       "        const buttonEl =\n",
       "          document.querySelector('#df-b99ed7b7-7c53-498a-8d22-dd753f9977df button.colab-df-convert');\n",
       "        buttonEl.style.display =\n",
       "          google.colab.kernel.accessAllowed ? 'block' : 'none';\n",
       "\n",
       "        async function convertToInteractive(key) {\n",
       "          const element = document.querySelector('#df-b99ed7b7-7c53-498a-8d22-dd753f9977df');\n",
       "          const dataTable =\n",
       "            await google.colab.kernel.invokeFunction('convertToInteractive',\n",
       "                                                     [key], {});\n",
       "          if (!dataTable) return;\n",
       "\n",
       "          const docLinkHtml = 'Like what you see? Visit the ' +\n",
       "            '<a target=\"_blank\" href=https://colab.research.google.com/notebooks/data_table.ipynb>data table notebook</a>'\n",
       "            + ' to learn more about interactive tables.';\n",
       "          element.innerHTML = '';\n",
       "          dataTable['output_type'] = 'display_data';\n",
       "          await google.colab.output.renderOutput(dataTable, element);\n",
       "          const docLink = document.createElement('div');\n",
       "          docLink.innerHTML = docLinkHtml;\n",
       "          element.appendChild(docLink);\n",
       "        }\n",
       "      </script>\n",
       "    </div>\n",
       "  </div>\n",
       "  "
      ],
      "text/plain": [
       "   LotArea MSZoning\n",
       "0   8450.0       RL\n",
       "1   9600.0       RL\n",
       "2  11250.0       RL\n",
       "3   9550.0       RL\n",
       "4  14260.0       RL"
      ]
     },
     "execution_count": 31,
     "metadata": {},
     "output_type": "execute_result"
    }
   ],
   "source": [
    "from sklearn.datasets import fetch_openml\n",
    "housing = fetch_openml(name=\"house_prices\", as_frame=True)\n",
    "data = housing.data[[\"LotArea\", \"MSZoning\"]]\n",
    "data.head(5)"
   ]
  },
  {
   "cell_type": "code",
   "execution_count": null,
   "metadata": {
    "colab": {
     "base_uri": "https://localhost:8080/"
    },
    "id": "rYtXEvdjNMEX",
    "outputId": "c7624771-b6a7-46aa-9c54-789f02a3e33a"
   },
   "outputs": [
    {
     "data": {
      "text/plain": [
       "RL         1151\n",
       "RM          218\n",
       "FV           65\n",
       "RH           16\n",
       "C (all)      10\n",
       "Name: MSZoning, dtype: int64"
      ]
     },
     "execution_count": 32,
     "metadata": {},
     "output_type": "execute_result"
    }
   ],
   "source": [
    "data.MSZoning.value_counts()"
   ]
  },
  {
   "cell_type": "code",
   "execution_count": null,
   "metadata": {
    "id": "9smJcOp3OseJ"
   },
   "outputs": [],
   "source": [
    "data_rl = data.loc[data.MSZoning == 'RL', 'LotArea']\n",
    "data_rm = data.loc[data.MSZoning == 'RM', 'LotArea']\n",
    "data_fv = data.loc[data.MSZoning == 'FV', 'LotArea']\n",
    "data_rh = data.loc[data.MSZoning == 'RH', 'LotArea']\n",
    "data_c = data.loc[data.MSZoning == 'C (all)', 'LotArea']"
   ]
  },
  {
   "cell_type": "markdown",
   "metadata": {
    "id": "oARZBKucUIDE"
   },
   "source": [
    "Я використала one-way ANOVA оскільки ми перевіряємо одну категоріальну змінну. P-value у тесті є дуже маленьким, міжгрупова варіація сильно відрізняється від різниці у групах. Тому можна відкинути нульову гіпотезу і стверджувати, що залежність між категорією MSZoning і LotArea існує"
   ]
  },
  {
   "cell_type": "code",
   "execution_count": null,
   "metadata": {
    "colab": {
     "base_uri": "https://localhost:8080/"
    },
    "id": "eAvor1UzNMHX",
    "outputId": "f8bee89f-ad54-4bea-e6fc-286137fddc30"
   },
   "outputs": [
    {
     "data": {
      "text/plain": [
       "F_onewayResult(statistic=16.09067048733613, pvalue=6.711089624235668e-13)"
      ]
     },
     "execution_count": 38,
     "metadata": {},
     "output_type": "execute_result"
    }
   ],
   "source": [
    "from scipy.stats import f_oneway\n",
    "\n",
    "f_oneway(data_rl, data_rm, data_fv, data_rh, data_c)"
   ]
  },
  {
   "cell_type": "markdown",
   "metadata": {
    "id": "94Wo-omsQfhE"
   },
   "source": [
    "Цей самий результат дає і лінійна регресія"
   ]
  },
  {
   "cell_type": "code",
   "execution_count": null,
   "metadata": {
    "colab": {
     "base_uri": "https://localhost:8080/"
    },
    "id": "CNXyAtafPduI",
    "outputId": "6c7e43da-4906-4a7f-b97a-585be47a4fbf"
   },
   "outputs": [
    {
     "name": "stdout",
     "output_type": "stream",
     "text": [
      "                            OLS Regression Results                            \n",
      "==============================================================================\n",
      "Dep. Variable:                LotArea   R-squared:                       0.042\n",
      "Model:                            OLS   Adj. R-squared:                  0.040\n",
      "Method:                 Least Squares   F-statistic:                     16.09\n",
      "Date:                Fri, 22 Apr 2022   Prob (F-statistic):           6.71e-13\n",
      "Time:                        12:53:46   Log-Likelihood:                -15484.\n",
      "No. Observations:                1460   AIC:                         3.098e+04\n",
      "Df Residuals:                    1455   BIC:                         3.100e+04\n",
      "Df Model:                           4                                         \n",
      "Covariance Type:            nonrobust                                         \n",
      "========================================================================================\n",
      "                           coef    std err          t      P>|t|      [0.025      0.975]\n",
      "----------------------------------------------------------------------------------------\n",
      "C(MSZoning)[C (all)]  9501.3000   3093.018      3.072      0.002    3434.048    1.56e+04\n",
      "C(MSZoning)[FV]       6638.8615   1213.182      5.472      0.000    4259.090    9018.633\n",
      "C(MSZoning)[RH]       7380.0625   2445.246      3.018      0.003    2583.479    1.22e+04\n",
      "C(MSZoning)[RL]       1.157e+04    288.300     40.138      0.000     1.1e+04    1.21e+04\n",
      "C(MSZoning)[RM]       6379.7752    662.452      9.631      0.000    5080.313    7679.238\n",
      "==============================================================================\n",
      "Omnibus:                     2646.351   Durbin-Watson:                   2.028\n",
      "Prob(Omnibus):                  0.000   Jarque-Bera (JB):          2865673.241\n",
      "Skew:                          12.738   Prob(JB):                         0.00\n",
      "Kurtosis:                     218.541   Cond. No.                         10.7\n",
      "==============================================================================\n",
      "\n",
      "Warnings:\n",
      "[1] Standard Errors assume that the covariance matrix of the errors is correctly specified.\n"
     ]
    }
   ],
   "source": [
    "from statsmodels.formula.api import ols\n",
    "\n",
    "lm = ols('LotArea\t ~ C(MSZoning) -1', data=data).fit()\n",
    "print(lm.summary())"
   ]
  },
  {
   "cell_type": "markdown",
   "metadata": {
    "id": "woFCk3VV_XRy"
   },
   "source": [
    "### **Завдання 19**  (10 бали)\n",
    "\n",
    "Компанія володіє двома фабриками по виготовленню певного товару. Якість товару вони міряють за допомогою певного показника (наприклад ваги). Нещодавно керівництво купило новий станок по виготовленню товару і поставили його на одній з фабрик. Продавець гарантував, що показник якості товару виготовленого за допомогою цього станка сягне більше 150. Компанія збирала дані показника з двох фабрик і отримала наступні числа (одне число - показник одного товару):\n",
    "\n",
    "```\n",
    "old = np.array([123,134,125,146,151,148,157,123,132,129,145,132])\n",
    "new = np.array([143,144,129,136,155,139,147,163,152,139,159])\n",
    "```\n",
    "\n",
    "Зробіть наступні 3 тести:\n",
    "1. Керівництво очікує, що кількість товарів на першій і на другій фабриці залишиться одинаковим. Проведіть chi2 тест\n",
    "2. Чи здійснились гарантії продавця? Чи справді новий показник в середньому перевищує 150?\n",
    "3. Чи показник на новій фабриці реально вищий ніж на старій?\n",
    "\n",
    "\n",
    "Напишіть висновок. Чи рекомендуєте ви купити такий самий станок і на другу фабрику?"
   ]
  },
  {
   "cell_type": "code",
   "execution_count": null,
   "metadata": {
    "id": "wjECpfm8ECPo"
   },
   "outputs": [],
   "source": [
    "old = np.array([123,134,125,146,151,148,157,123,132,129,145,132])\n",
    "new = np.array([143,144,129,136,155,139,147,163,152,139,159])"
   ]
  },
  {
   "cell_type": "markdown",
   "metadata": {
    "id": "XMqKMG6vqyWz"
   },
   "source": [
    "Я не до кінця зрозуміла мету 1 завдання. Якщо одне число це показник якості одного товару, то у другій фабриці просто на один товар менше. Як саме тест хі-квадрат може відповісти на нього? Перевірити чи рівні розподіли у цих двох вибірках ми теж не можемо, оскільки тест вимагає, щоб вони були однакової довжини. Я усе ж вирішила його зробити, додавши усереднене значення, але думаю, що це напевно не найбільш оптимальне рішення."
   ]
  },
  {
   "cell_type": "code",
   "execution_count": 2,
   "metadata": {},
   "outputs": [
    {
     "data": {
      "text/plain": [
       "Power_divergenceResult(statistic=0.043478260869565216, pvalue=0.8348273291852392)"
      ]
     },
     "execution_count": 2,
     "metadata": {},
     "output_type": "execute_result"
    }
   ],
   "source": [
    "from scipy.stats import chisquare\n",
    "chisquare([11, 12])"
   ]
  },
  {
   "cell_type": "code",
   "execution_count": null,
   "metadata": {
    "colab": {
     "base_uri": "https://localhost:8080/"
    },
    "id": "7AWh_UQldKW2",
    "outputId": "405c3eed-bdd4-43ed-b20e-466244d799fd"
   },
   "outputs": [
    {
     "data": {
      "text/plain": [
       "Power_divergenceResult(statistic=35.49259243679348, pvalue=0.0002054434800818075)"
      ]
     },
     "execution_count": 3,
     "metadata": {},
     "output_type": "execute_result"
    }
   ],
   "source": [
    "from scipy.stats import chisquare\n",
    "new_mod = np.insert(new, 0, values=np.mean(new), axis=0)\n",
    "chisquare(f_obs = new_mod, f_exp = old)"
   ]
  },
  {
   "cell_type": "code",
   "execution_count": null,
   "metadata": {
    "colab": {
     "base_uri": "https://localhost:8080/"
    },
    "id": "EutsxQgLvK1v",
    "outputId": "be1d63fa-ef8f-4bc7-b981-b037a3be9d77"
   },
   "outputs": [
    {
     "data": {
      "text/plain": [
       "Ttest_1sampResult(statistic=-1.2789400816074252, pvalue=0.22979916182959537)"
      ]
     },
     "execution_count": 64,
     "metadata": {},
     "output_type": "execute_result"
    }
   ],
   "source": [
    "from scipy.stats import ttest_1samp\n",
    "\n",
    "ttest_1samp(new, 150)"
   ]
  },
  {
   "cell_type": "code",
   "execution_count": null,
   "metadata": {
    "colab": {
     "base_uri": "https://localhost:8080/"
    },
    "id": "xAThogszwuUF",
    "outputId": "d0ffa69e-be46-459a-ab79-7aeb898f62ec"
   },
   "outputs": [
    {
     "data": {
      "text/plain": [
       "Ttest_indResult(statistic=1.920906471970677, pvalue=0.06842382228815087)"
      ]
     },
     "execution_count": 65,
     "metadata": {},
     "output_type": "execute_result"
    }
   ],
   "source": [
    "from scipy.stats import ttest_ind\n",
    "\n",
    "ttest_ind(new, old)"
   ]
  },
  {
   "cell_type": "markdown",
   "metadata": {
    "id": "6pzoe_qehzqn"
   },
   "source": [
    "Загалом, за результатами тестів новий станок не виглядає особливо корисним придбанням. Середнє значення якості товарів дещо підвищилось, але так і не перевищило очікуваний показник. Тому можемо стверджувати, що гарантії продавця не підтвердились. Також ми не повністю можемо відкинути нульову гіпотезу про те, що вибірки суттєво відрізняються між собою, оскільки p-value t-тестування недостатньо мале.\n",
    "Деяка різниця між розподілами все ж спостерігається, але оскільки підвищення якості не відповідає поставленим цілям, а також зважаючи на зменшення кількості товарів, я би не рекомендувала купувати другий станок."
   ]
  }
 ],
 "metadata": {
  "colab": {
   "collapsed_sections": [],
   "name": "Copy of A/B testing.ipynb",
   "provenance": [],
   "toc_visible": true
  },
  "kernelspec": {
   "display_name": "Python 3 (ipykernel)",
   "language": "python",
   "name": "python3"
  },
  "language_info": {
   "codemirror_mode": {
    "name": "ipython",
    "version": 3
   },
   "file_extension": ".py",
   "mimetype": "text/x-python",
   "name": "python",
   "nbconvert_exporter": "python",
   "pygments_lexer": "ipython3",
   "version": "3.9.7"
  }
 },
 "nbformat": 4,
 "nbformat_minor": 1
}
