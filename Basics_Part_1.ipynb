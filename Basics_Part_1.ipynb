{
 "cells": [
  {
   "cell_type": "code",
   "execution_count": 33,
   "metadata": {
    "id": "l-826pIl1Qb5"
   },
   "outputs": [],
   "source": [
    "import scipy.stats as st\n",
    "import matplotlib.pyplot as plt\n",
    "import numpy as np\n",
    "import pandas as pd\n",
    "\n",
    "from statsmodels.distributions.empirical_distribution import ECDF\n",
    "from sklearn.datasets import load_iris"
   ]
  },
  {
   "cell_type": "markdown",
   "metadata": {
    "id": "RSKMy9mNyKbG"
   },
   "source": [
    "### **Завдання 1** (5 балів)\n",
    "\n",
    "Розгляньте біноміальний розподіл ([документація](https://docs.scipy.org/doc/scipy/reference/generated/scipy.stats.binom.html#scipy.stats.binom)). Цей розподіл є прикладом дискретного розподілу. Яка основна різниця між дискретним і неперервним розподілами? Зверніть увагу на функцію **pmf** з документації.\n",
    "\n",
    "1. Зобразіть графіки функції розподілу і функції імовірностей (pmf) для $B(n = 10, p = 0.6)$. \n",
    "2. Знайдіть наступні числа: $F(5)$, $F^{-1}(0.9)$, $P( 2\\le X \\le 7))$"
   ]
  },
  {
   "cell_type": "markdown",
   "metadata": {
    "id": "jqeI5BSUHfmq"
   },
   "source": [
    "У неперевному розподілі дані можуть приймати будь-яке (нескінченну кількість) значення у певному діапазоні, тоді як у дискретному - скінченну кількість конкретних значень"
   ]
  },
  {
   "cell_type": "code",
   "execution_count": null,
   "metadata": {
    "colab": {
     "base_uri": "https://localhost:8080/",
     "height": 354
    },
    "id": "n0okpNNbccyv",
    "outputId": "973aa6e4-f931-4ba5-94b7-fa662332e8a5"
   },
   "outputs": [
    {
     "data": {
      "text/plain": [
       "[Text(0.5, 1.0, 'PMF (n=10, p=0.6)')]"
      ]
     },
     "execution_count": 4,
     "metadata": {},
     "output_type": "execute_result"
    },
    {
     "data": {
      "image/png": "[encoded data removed]",
      "text/plain": [
       "<Figure size 1224x360 with 2 Axes>"
      ]
     },
     "metadata": {
      "needs_background": "light"
     },
     "output_type": "display_data"
    }
   ],
   "source": [
    "# 1\n",
    "n, p = 10, 0.6\n",
    "x = np.arange(0, n+1)\n",
    "\n",
    "binom_cdf = st.binom.cdf(x, n, p)\n",
    "binom_pmf = st.binom.pmf(x, n, p)\n",
    "\n",
    "fig = plt.figure(figsize=(17,5))\n",
    "ax_1 = fig.add_subplot(1, 2, 1)\n",
    "ax_1.plot(x, binom_cdf, 'bo', ms=8)\n",
    "ax_1.vlines(x, 0, binom_cdf, colors='b', lw=5, alpha=0.5)\n",
    "ax_1.set(title = f\"CDF (n={n}, p={p})\")\n",
    "ax_2 = fig.add_subplot(1, 2, 2)\n",
    "ax_2.plot(x, binom_pmf, 'bo', ms=8)\n",
    "ax_2.vlines(x, 0, binom_pmf, colors='b', lw=5, alpha=0.5)\n",
    "ax_2.set(title = f\"PMF (n={n}, p={p})\")"
   ]
  },
  {
   "cell_type": "code",
   "execution_count": null,
   "metadata": {
    "colab": {
     "base_uri": "https://localhost:8080/"
    },
    "id": "hhHTiQKX51Sp",
    "outputId": "bbe6a991-ddfd-4e46-9027-299f6e22612a"
   },
   "outputs": [
    {
     "data": {
      "text/plain": [
       "(0.36689674240000003, 8.0, 0.8204156928)"
      ]
     },
     "execution_count": 8,
     "metadata": {},
     "output_type": "execute_result"
    }
   ],
   "source": [
    "# 2\n",
    "st.binom.cdf(5, n, p), st.binom.ppf(0.9, n, p), st.binom.cdf(7, n, p) - st.binom.cdf(2, n, p)"
   ]
  },
  {
   "cell_type": "markdown",
   "metadata": {
    "id": "cG_HsWIjyKTz"
   },
   "source": [
    "### **Завдання 2** (5 балів)\n",
    "\n",
    "Для даних нижче даних порахуйте всі характеристики локації, дисперсії та симетрії і зробіть висновок про дані з цих чисел."
   ]
  },
  {
   "cell_type": "code",
   "execution_count": 8,
   "metadata": {
    "colab": {
     "base_uri": "https://localhost:8080/"
    },
    "id": "S2gEIx4gHnqi",
    "outputId": "275ee4d2-a283-4c11-ba30-8786653cc6d1"
   },
   "outputs": [
    {
     "data": {
      "text/plain": [
       "array([ 8450.,  9600., 11250., ...,  9042.,  9717.,  9937.])"
      ]
     },
     "execution_count": 8,
     "metadata": {},
     "output_type": "execute_result"
    }
   ],
   "source": [
    "from sklearn.datasets import fetch_openml\n",
    "housing = fetch_openml(name=\"house_prices\", as_frame=True)\n",
    "data = housing.data[\"LotArea\"]\n",
    "data = data.to_numpy()\n",
    "data"
   ]
  },
  {
   "cell_type": "code",
   "execution_count": 9,
   "metadata": {
    "colab": {
     "base_uri": "https://localhost:8080/"
    },
    "id": "GCIX2NfseRUe",
    "outputId": "f44ba19d-3918-4dfb-87b3-3dea817ee650"
   },
   "outputs": [
    {
     "data": {
      "text/plain": [
       "1460"
      ]
     },
     "execution_count": 9,
     "metadata": {},
     "output_type": "execute_result"
    }
   ],
   "source": [
    "len(data)"
   ]
  },
  {
   "cell_type": "code",
   "execution_count": 10,
   "metadata": {
    "colab": {
     "base_uri": "https://localhost:8080/"
    },
    "id": "pIPca3lAeyJB",
    "outputId": "40969e21-dfb0-446f-a0cc-6be1c006a3aa"
   },
   "outputs": [
    {
     "data": {
      "text/plain": [
       "215245.0"
      ]
     },
     "execution_count": 10,
     "metadata": {},
     "output_type": "execute_result"
    }
   ],
   "source": [
    "max(data)"
   ]
  },
  {
   "cell_type": "code",
   "execution_count": null,
   "metadata": {
    "colab": {
     "base_uri": "https://localhost:8080/"
    },
    "id": "JEJX5oaLRp94",
    "outputId": "91a6c238-bce1-4031-8a19-d259f464e36e"
   },
   "outputs": [
    {
     "name": "stdout",
     "output_type": "stream",
     "text": [
      "Mean: 10516.828082191782\n",
      "Median: 9478.5\n",
      "Mode: ModeResult(mode=array([7200.]), count=array([25]))\n",
      "10%-quantile: 5000.0\n",
      "90%-quantile: 14381.70000000001\n",
      "Variance: 99557412.90400591\n",
      "Standard deviation: 9977.846105448105\n",
      "Skewness: 12.195142125084478\n",
      "Kurtosis: 202.5437927513529\n"
     ]
    }
   ],
   "source": [
    "print(\"Mean:\", np.mean(data))\n",
    "print(\"Median:\", np.median(data))\n",
    "print(\"Mode:\", st.mode(data))\n",
    "print(\"10%-quantile:\", np.percentile(data, 10))\n",
    "print(\"90%-quantile:\", np.percentile(data, 90))\n",
    "print(\"Variance:\", np.var(data))\n",
    "print(\"Standard deviation:\", np.std(data))\n",
    "print(\"Skewness:\", st.skew(data))\n",
    "print(\"Kurtosis:\", st.kurtosis(data))"
   ]
  },
  {
   "cell_type": "markdown",
   "metadata": {
    "id": "tCu8RjVHTY6I"
   },
   "source": [
    "Показники дисперсії свідчать про сильний розмах у даних, вірогідно тут присутні аутлаєри, які викривлюють загальну картину, а саме надзвичайно великі житлові ділянки. Екстремально велику позитивну (правобічну?) асиметрію у даних показує також і показник симетрії."
   ]
  },
  {
   "cell_type": "markdown",
   "metadata": {
    "id": "JqX9jAaAQU1q"
   },
   "source": [
    "### **Завдання 3** (5 балів)\n",
    "\n",
    "Для вказаних нижче даних зобразіть гістограму. До якого розподілу можуть підходити ці дані? Знайдіть параметри припускаючи, що це нормальний розподіл. Намалюйте функцію густини нормального розподілу з правильними параметрами поверх гістограми."
   ]
  },
  {
   "cell_type": "code",
   "execution_count": 23,
   "metadata": {
    "colab": {
     "base_uri": "https://localhost:8080/",
     "height": 404
    },
    "id": "k4iKQQP1H4fs",
    "outputId": "0505946c-8648-4141-b0f5-a32046600282"
   },
   "outputs": [
    {
     "data": {
      "text/plain": [
       "{'boxes': [<matplotlib.lines.Line2D at 0x7efd0fb41d90>],\n",
       " 'caps': [<matplotlib.lines.Line2D at 0x7efd0edc93d0>,\n",
       "  <matplotlib.lines.Line2D at 0x7efd0edc9650>],\n",
       " 'fliers': [<matplotlib.lines.Line2D at 0x7efd0fa0cc50>],\n",
       " 'means': [],\n",
       " 'medians': [<matplotlib.lines.Line2D at 0x7efd0edca690>],\n",
       " 'whiskers': [<matplotlib.lines.Line2D at 0x7efd0edc88d0>,\n",
       "  <matplotlib.lines.Line2D at 0x7efd0edc9350>]}"
      ]
     },
     "execution_count": 23,
     "metadata": {},
     "output_type": "execute_result"
    },
    {
     "data": {
      "image/png": "[encoded data removed]",
      "text/plain": [
       "<Figure size 432x288 with 1 Axes>"
      ]
     },
     "metadata": {
      "needs_background": "light"
     },
     "output_type": "display_data"
    }
   ],
   "source": [
    "from sklearn.datasets import fetch_openml\n",
    "housing = fetch_openml(name=\"house_prices\", as_frame=True)\n",
    "data = housing.data[\"LotArea\"]\n",
    "plt.boxplot(data)"
   ]
  },
  {
   "cell_type": "markdown",
   "metadata": {
    "id": "XQW3lnmFePhg"
   },
   "source": [
    "У боксплоті видно, що у цьому датасеті багато аутлаєрів, тому для репрезантативної картини варто для початку видалити їх. Оскільки на початку мені не був зрозумілий розподіл, я використала метод міжквартильного розмаху. Спочатку я просто відфільтрувала дані які менше ніж np.percentile() із параметром 0.95, оскільки він мені показався найбільш приближеним до діаграми, але потім використала метод з цієї статті https://machinelearningmastery.com/how-to-use-statistics-to-identify-outliers-in-data/). Після цього гістограма отримала форму розподілу, близького до нормального"
   ]
  },
  {
   "cell_type": "code",
   "execution_count": 24,
   "metadata": {
    "id": "cwnMFfRxYA83"
   },
   "outputs": [],
   "source": [
    "q25, q75 = np.percentile(data, 25), np.percentile(data, 75)\n",
    "iqr = q75 - q25\n",
    "cut_off = iqr * 1.5\n",
    "lower, upper = q25 - cut_off, q75 + cut_off\n",
    "outliers = [x for x in data if x < lower or x > upper]\n",
    "outliers_removed = [x for x in data if x > lower and x < upper]"
   ]
  },
  {
   "cell_type": "code",
   "execution_count": 51,
   "metadata": {
    "colab": {
     "base_uri": "https://localhost:8080/",
     "height": 265
    },
    "id": "FNbUZdByFIA_",
    "outputId": "cd2f1241-298a-48b4-d75d-1ae80d6b98dd"
   },
   "outputs": [
    {
     "data": {
      "image/png": "[encoded data removed]",
      "text/plain": [
       "<Figure size 432x288 with 1 Axes>"
      ]
     },
     "metadata": {
      "needs_background": "light"
     },
     "output_type": "display_data"
    }
   ],
   "source": [
    "m, s = st.norm.fit(outliers_removed)\n",
    "x = [x for x in range(int(min(outliers_removed)), int(max(outliers_removed)), 1)]\n",
    "density_values = st.norm.pdf(x, loc = m, scale = s)\n",
    "plt.plot(x, density_values)\n",
    "plt.hist(outliers_removed, density = True)\n",
    "plt.show()"
   ]
  },
  {
   "cell_type": "markdown",
   "metadata": {
    "id": "8m2kkNtqUbX0"
   },
   "source": [
    "### **Завдання 4**  (5 балів)\n",
    "\n",
    "У статистиці, якщо даних у вибірці не достатньо, дуже часто замість нормального розподілу припускають, що середнє значення розподіляється за допомогою t-розподілу. t-розподіл має тяжчі хвости, відповідно інтервали довіри зазвичай ширші. Т-розподіл приймає параметр **df**, яке позначає кільість даних. Виведіть на одному графіку густину стандартного нормального розподілу і t-розподіну з 5 різними параметрами **df** (вибирайте максимум 100). З якого +- значення t розподіл стає вже дуже подібним до нормального? Як це можна використати, коли ми працюємо з вибіркою?\n",
    "\n",
    "**scipy.stats.t scipy.stats.norm**"
   ]
  },
  {
   "cell_type": "markdown",
   "metadata": {
    "id": "ioKHRUWVaaIV"
   },
   "source": [
    "t-розподіл наближається до нормального, коли вибірка перевищує значення 30. Таким чином, якщо у нас вибірка менше, потрібно використовувати t-розподіл, оскільки він збільшує інтервали довіри і таким чином враховує більшу невизначеність."
   ]
  },
  {
   "cell_type": "code",
   "execution_count": 41,
   "metadata": {
    "colab": {
     "base_uri": "https://localhost:8080/",
     "height": 282
    },
    "id": "gLbBKW_Z71Im",
    "outputId": "6eceaa65-e5d4-433d-fed7-5361e4c2fbac"
   },
   "outputs": [
    {
     "data": {
      "text/plain": [
       "[<matplotlib.lines.Line2D at 0x7f8799841e10>]"
      ]
     },
     "execution_count": 41,
     "metadata": {},
     "output_type": "execute_result"
    },
    {
     "data": {
      "image/png": "[encoded data removed]",
      "text/plain": [
       "<Figure size 432x288 with 1 Axes>"
      ]
     },
     "metadata": {
      "needs_background": "light"
     },
     "output_type": "display_data"
    }
   ],
   "source": [
    "from scipy.stats import t\n",
    "from scipy.stats import norm\n",
    "\n",
    "fig, ax = plt.subplots(1, 1)\n",
    "\n",
    "tx = np.linspace(t.ppf(0.01, df),\n",
    "                t.ppf(0.99, df), 100)\n",
    "\n",
    "nx = np.linspace(norm.ppf(0.01),\n",
    "                norm.ppf(0.99), 100)\n",
    "\n",
    "ax.plot(tx, t.pdf(tx, df = 5),\n",
    "       'r-', lw=1, alpha=0.6)\n",
    "ax.plot(nx, norm.pdf(nx),\n",
    "       'b-', lw=1, alpha=0.6)"
   ]
  },
  {
   "cell_type": "code",
   "execution_count": 39,
   "metadata": {
    "colab": {
     "base_uri": "https://localhost:8080/",
     "height": 282
    },
    "id": "kfaaHKWVG0v5",
    "outputId": "ab960d57-24af-4192-ac58-1f9401d6ebb3"
   },
   "outputs": [
    {
     "data": {
      "text/plain": [
       "[<matplotlib.lines.Line2D at 0x7f87999532d0>]"
      ]
     },
     "execution_count": 39,
     "metadata": {},
     "output_type": "execute_result"
    },
    {
     "data": {
      "image/png": "[encoded data removed]",
      "text/plain": [
       "<Figure size 432x288 with 1 Axes>"
      ]
     },
     "metadata": {
      "needs_background": "light"
     },
     "output_type": "display_data"
    }
   ],
   "source": [
    "fig, ax = plt.subplots(1, 1)\n",
    "ax.plot(tx, t.pdf(tx, df = 30),\n",
    "       'r-', lw=1, alpha=0.6)\n",
    "ax.plot(nx, norm.pdf(nx),\n",
    "       'b-', lw=1, alpha=0.6)"
   ]
  },
  {
   "cell_type": "markdown",
   "metadata": {
    "id": "2YmGjDYbYkb8"
   },
   "source": [
    "### **Завдання 5**  (5 балів)\n",
    "\n",
    "Знайдіть інтервал довіри для **середнього** даних (90%, 95%, 99%) використовуючи *st.norm.interval*. Виведіть їх числами та/або на графіку. Зробіть те саме лише для випадкових 50 рядків даних (np.random.choice(data, 50)). Як помінялись інтервали? Поясніть чому так сталось?"
   ]
  },
  {
   "cell_type": "code",
   "execution_count": 34,
   "metadata": {
    "id": "BqTyft-HZ8qw"
   },
   "outputs": [],
   "source": [
    "from sklearn.datasets import fetch_openml\n",
    "housing = fetch_openml(name=\"house_prices\", as_frame=True)\n",
    "data = housing.data[\"LotArea\"]"
   ]
  },
  {
   "cell_type": "markdown",
   "metadata": {
    "id": "wFvDZ5A3UaRG"
   },
   "source": [
    "Я використала дані з завдання 3, в якому видалила аутлаєри з цього датасету. Без цього розкид інтервалів довіри був надзвичайно широким, а середнє - високим"
   ]
  },
  {
   "cell_type": "code",
   "execution_count": 35,
   "metadata": {
    "id": "a7dfXPdkUK5j"
   },
   "outputs": [],
   "source": [
    "lotarea_data = pd.Series(outliers_removed)\n",
    "sample_data = np.random.choice(lotarea_data, 50)"
   ]
  },
  {
   "cell_type": "markdown",
   "metadata": {
    "id": "P8DLkmbRJVJi"
   },
   "source": [
    "Для випадкових 50 рядків даних інтервали довіри стали ширшими, оскільки кількість спостережень зменшилась. Ми бачимо з формули середнього квадратичного відхилення середнього арифметичного, що вона зворотньо пропорційна квадратному кореню розмірів вибірки. Тому чим вона більша, тим меншим будуть інтервали довіри, тобто тим впевненіше можна судити про точність очікуваного значення "
   ]
  },
  {
   "cell_type": "code",
   "execution_count": 39,
   "metadata": {
    "colab": {
     "base_uri": "https://localhost:8080/"
    },
    "id": "2c0oLf9LLTCP",
    "outputId": "6b0b3717-8a32-4727-cd4e-d0e278e70ccb"
   },
   "outputs": [
    {
     "name": "stdout",
     "output_type": "stream",
     "text": [
      "data_mean CI 99%: (8449.11331993047, 10095.960727517411)\n",
      "data_mean CI 95%: (8645.988982971308, 9899.085064476572)\n",
      "data_mean CI 90%: (8746.721332506966, 9798.352714940915)\n",
      "sample_mean CI 99%: (8817.659618576927, 10655.940381423072)\n",
      "sample_mean CI 95%: (9037.42056447467, 10436.179435525328)\n",
      "sample_mean CI 90%: (9149.862275524889, 10323.73772447511)\n"
     ]
    }
   ],
   "source": [
    "n = 100\n",
    "m1, st1 = lotarea_data.mean(), lotarea_data.std()/np.sqrt(n)\n",
    "m2, st2 = sample_data.mean(), sample_data.std()/np.sqrt(n)\n",
    "print(\"data_mean CI 99%: \" + str(st.norm.interval(alpha=0.99, loc=m1, scale=st1)))\n",
    "print(\"data_mean CI 95%: \" + str(st.norm.interval(alpha=0.95, loc=m1, scale=st1)))\n",
    "print(\"data_mean CI 90%: \" + str(st.norm.interval(alpha=0.90, loc=m1, scale=st1)))\n",
    "print(\"sample_mean CI 99%: \" + str(st.norm.interval(alpha=0.99, loc=m2, scale=st2)))\n",
    "print(\"sample_mean CI 95%: \" + str(st.norm.interval(alpha=0.95, loc=m2, scale=st2)))\n",
    "print(\"sample_mean CI 90%: \" + str(st.norm.interval(alpha=0.90, loc=m2, scale=st2)))"
   ]
  }
 ],
 "metadata": {
  "colab": {
   "collapsed_sections": [],
   "name": "Copy of Basics Part 1.ipynb",
   "provenance": [],
   "toc_visible": true
  },
  "kernelspec": {
   "display_name": "Python 3 (ipykernel)",
   "language": "python",
   "name": "python3"
  },
  "language_info": {
   "codemirror_mode": {
    "name": "ipython",
    "version": 3
   },
   "file_extension": ".py",
   "mimetype": "text/x-python",
   "name": "python",
   "nbconvert_exporter": "python",
   "pygments_lexer": "ipython3",
   "version": "3.9.7"
  }
 },
 "nbformat": 4,
 "nbformat_minor": 1
}
