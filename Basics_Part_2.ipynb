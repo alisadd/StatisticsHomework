{
 "cells": [
  {
   "cell_type": "code",
   "execution_count": 3,
   "metadata": {
    "id": "l-826pIl1Qb5"
   },
   "outputs": [],
   "source": [
    "import scipy.stats as st\n",
    "import matplotlib.pyplot as plt\n",
    "import numpy as np\n",
    "import pandas as pd\n",
    "import seaborn as sns "
   ]
  },
  {
   "cell_type": "markdown",
   "metadata": {
    "id": "RSKMy9mNyKbG"
   },
   "source": [
    "### **Завдання 6** (5 балів)\n",
    "\n",
    "Для даних колонки **data.MSZoning** порахуйте даммі за допомогою [pd.get_dummies](https://pandas.pydata.org/docs/reference/api/pandas.get_dummies.html) і для кожної категорії порахуйте кореляцію з неперервною колонкою **data.LotArea**"
   ]
  },
  {
   "cell_type": "code",
   "execution_count": null,
   "metadata": {},
   "outputs": [],
   "source": [
    "MSZoning_map = {'RL':3, \n",
    "                'RM':2, \n",
    "                'C (all)':1, \n",
    "                'FV':4, \n",
    "                'RH':5}\n",
    "\n",
    "HouseStyle_map = {'2Story':1, \n",
    "                  '1Story':2, \n",
    "                  '1.5Fin':3, \n",
    "                  '1.5Unf':4, \n",
    "                  'SFoyer':5, \n",
    "                  'SLvl':6, \n",
    "                  '2.5Unf':7,\n",
    "                  '2.5Fin':8}\n",
    "\n",
    "data[\"MSZoning\"] = data[\"MSZoning\"].map(MSZoning_map)\n",
    "data[\"HouseStyle\"] = data[\"HouseStyle\"].map(HouseStyle_map)"
   ]
  },
  {
   "cell_type": "code",
   "execution_count": null,
   "metadata": {
    "colab": {
     "base_uri": "https://localhost:8080/"
    },
    "id": "5MqiaxWkDr3i",
    "outputId": "b58f81f4-cc23-4b85-c72d-68f29111e46b"
   },
   "outputs": [
    {
     "name": "stdout",
     "output_type": "stream",
     "text": [
      "MSZoning C (all)': PointbiserialrResult(correlation=-0.008765493256180727, pvalue=0.7382368958712239)\n",
      "MSZoning RM': PointbiserialrResult(correlation=-0.27619847778164225, pvalue=6.633467316885028e-27)\n",
      "MSZoning RL': PointbiserialrResult(correlation=0.3225704426991592, pvalue=1.3156335018639459e-36)\n",
      "MSZoning FV': PointbiserialrResult(correlation=-0.13236272944304017, pvalue=4.007139053899633e-07)\n",
      "MSZoning RH': PointbiserialrResult(correlation=-0.050707446570180045, pvalue=0.053057140735069175)\n"
     ]
    }
   ],
   "source": [
    "zoning_dummies_df = pd.get_dummies(data_clean[[\"MSZoning\"]].astype(str))\n",
    "print(\"MSZoning C (all)':\", st.pointbiserialr(zoning_dummies_df.MSZoning_1, data_clean.LotArea))\n",
    "print(\"MSZoning RM':\", st.pointbiserialr(zoning_dummies_df.MSZoning_2, data_clean.LotArea))\n",
    "print(\"MSZoning RL':\", st.pointbiserialr(zoning_dummies_df.MSZoning_3, data_clean.LotArea))\n",
    "print(\"MSZoning FV':\", st.pointbiserialr(zoning_dummies_df.MSZoning_4, data_clean.LotArea))\n",
    "print(\"MSZoning RH':\", st.pointbiserialr(zoning_dummies_df.MSZoning_5, data_clean.LotArea))"
   ]
  },
  {
   "cell_type": "markdown",
   "metadata": {
    "id": "3JrWZFUK76r7"
   },
   "source": [
    "Для цього завдання я використала мапу зон та очищені дані з цього ноутбуку. Виразна кореляція спостерігається у зонах RM, RL, FV "
   ]
  },
  {
   "cell_type": "markdown",
   "metadata": {
    "id": "cG_HsWIjyKTz"
   },
   "source": [
    "### **Завдання 7** (5 балів)\n",
    "\n",
    "\n",
    "Оберіть будь-які 3 колонки з датасету, які не використовувались раніше і порахуйте для них кореляцію. Можете вибрати різні типи колонок, тоді для кожного типу оберіть правильну кореляцію. Або якщо всі ваші колонки одинакового типу, то порахуйте всеодно 2-3 типи кореляції. Результати прокоментуйте"
   ]
  },
  {
   "cell_type": "code",
   "execution_count": null,
   "metadata": {
    "colab": {
     "base_uri": "https://localhost:8080/",
     "height": 423
    },
    "id": "V7hYqSpeNZE3",
    "outputId": "f397e203-2fb2-49f2-b24e-7ba9540c9859"
   },
   "outputs": [
    {
     "data": {
      "text/html": [
       "\n",
       "  <div id=\"df-5116a286-b1a7-43cd-84a2-15c7f458fed5\">\n",
       "    <div class=\"colab-df-container\">\n",
       "      <div>\n",
       "<style scoped>\n",
       "    .dataframe tbody tr th:only-of-type {\n",
       "        vertical-align: middle;\n",
       "    }\n",
       "\n",
       "    .dataframe tbody tr th {\n",
       "        vertical-align: top;\n",
       "    }\n",
       "\n",
       "    .dataframe thead th {\n",
       "        text-align: right;\n",
       "    }\n",
       "</style>\n",
       "<table border=\"1\" class=\"dataframe\">\n",
       "  <thead>\n",
       "    <tr style=\"text-align: right;\">\n",
       "      <th></th>\n",
       "      <th>LotArea</th>\n",
       "      <th>HouseStyle</th>\n",
       "      <th>OverallQual</th>\n",
       "      <th>Fireplaces</th>\n",
       "      <th>TotalBsmtSF</th>\n",
       "    </tr>\n",
       "  </thead>\n",
       "  <tbody>\n",
       "    <tr>\n",
       "      <th>0</th>\n",
       "      <td>8450.0</td>\n",
       "      <td>2Story</td>\n",
       "      <td>7.0</td>\n",
       "      <td>0.0</td>\n",
       "      <td>856.0</td>\n",
       "    </tr>\n",
       "    <tr>\n",
       "      <th>1</th>\n",
       "      <td>9600.0</td>\n",
       "      <td>1Story</td>\n",
       "      <td>6.0</td>\n",
       "      <td>1.0</td>\n",
       "      <td>1262.0</td>\n",
       "    </tr>\n",
       "    <tr>\n",
       "      <th>2</th>\n",
       "      <td>11250.0</td>\n",
       "      <td>2Story</td>\n",
       "      <td>7.0</td>\n",
       "      <td>1.0</td>\n",
       "      <td>920.0</td>\n",
       "    </tr>\n",
       "    <tr>\n",
       "      <th>3</th>\n",
       "      <td>9550.0</td>\n",
       "      <td>2Story</td>\n",
       "      <td>7.0</td>\n",
       "      <td>1.0</td>\n",
       "      <td>756.0</td>\n",
       "    </tr>\n",
       "    <tr>\n",
       "      <th>4</th>\n",
       "      <td>14260.0</td>\n",
       "      <td>2Story</td>\n",
       "      <td>8.0</td>\n",
       "      <td>1.0</td>\n",
       "      <td>1145.0</td>\n",
       "    </tr>\n",
       "    <tr>\n",
       "      <th>...</th>\n",
       "      <td>...</td>\n",
       "      <td>...</td>\n",
       "      <td>...</td>\n",
       "      <td>...</td>\n",
       "      <td>...</td>\n",
       "    </tr>\n",
       "    <tr>\n",
       "      <th>1455</th>\n",
       "      <td>7917.0</td>\n",
       "      <td>2Story</td>\n",
       "      <td>6.0</td>\n",
       "      <td>1.0</td>\n",
       "      <td>953.0</td>\n",
       "    </tr>\n",
       "    <tr>\n",
       "      <th>1456</th>\n",
       "      <td>13175.0</td>\n",
       "      <td>1Story</td>\n",
       "      <td>6.0</td>\n",
       "      <td>2.0</td>\n",
       "      <td>1542.0</td>\n",
       "    </tr>\n",
       "    <tr>\n",
       "      <th>1457</th>\n",
       "      <td>9042.0</td>\n",
       "      <td>2Story</td>\n",
       "      <td>7.0</td>\n",
       "      <td>2.0</td>\n",
       "      <td>1152.0</td>\n",
       "    </tr>\n",
       "    <tr>\n",
       "      <th>1458</th>\n",
       "      <td>9717.0</td>\n",
       "      <td>1Story</td>\n",
       "      <td>5.0</td>\n",
       "      <td>0.0</td>\n",
       "      <td>1078.0</td>\n",
       "    </tr>\n",
       "    <tr>\n",
       "      <th>1459</th>\n",
       "      <td>9937.0</td>\n",
       "      <td>1Story</td>\n",
       "      <td>5.0</td>\n",
       "      <td>0.0</td>\n",
       "      <td>1256.0</td>\n",
       "    </tr>\n",
       "  </tbody>\n",
       "</table>\n",
       "<p>1460 rows × 5 columns</p>\n",
       "</div>\n",
       "      <button class=\"colab-df-convert\" onclick=\"convertToInteractive('df-5116a286-b1a7-43cd-84a2-15c7f458fed5')\"\n",
       "              title=\"Convert this dataframe to an interactive table.\"\n",
       "              style=\"display:none;\">\n",
       "        \n",
       "  <svg xmlns=\"http://www.w3.org/2000/svg\" height=\"24px\"viewBox=\"0 0 24 24\"\n",
       "       width=\"24px\">\n",
       "    <path d=\"M0 0h24v24H0V0z\" fill=\"none\"/>\n",
       "    <path d=\"M18.56 5.44l.94 2.06.94-2.06 2.06-.94-2.06-.94-.94-2.06-.94 2.06-2.06.94zm-11 1L8.5 8.5l.94-2.06 2.06-.94-2.06-.94L8.5 2.5l-.94 2.06-2.06.94zm10 10l.94 2.06.94-2.06 2.06-.94-2.06-.94-.94-2.06-.94 2.06-2.06.94z\"/><path d=\"M17.41 7.96l-1.37-1.37c-.4-.4-.92-.59-1.43-.59-.52 0-1.04.2-1.43.59L10.3 9.45l-7.72 7.72c-.78.78-.78 2.05 0 2.83L4 21.41c.39.39.9.59 1.41.59.51 0 1.02-.2 1.41-.59l7.78-7.78 2.81-2.81c.8-.78.8-2.07 0-2.86zM5.41 20L4 18.59l7.72-7.72 1.47 1.35L5.41 20z\"/>\n",
       "  </svg>\n",
       "      </button>\n",
       "      \n",
       "  <style>\n",
       "    .colab-df-container {\n",
       "      display:flex;\n",
       "      flex-wrap:wrap;\n",
       "      gap: 12px;\n",
       "    }\n",
       "\n",
       "    .colab-df-convert {\n",
       "      background-color: #E8F0FE;\n",
       "      border: none;\n",
       "      border-radius: 50%;\n",
       "      cursor: pointer;\n",
       "      display: none;\n",
       "      fill: #1967D2;\n",
       "      height: 32px;\n",
       "      padding: 0 0 0 0;\n",
       "      width: 32px;\n",
       "    }\n",
       "\n",
       "    .colab-df-convert:hover {\n",
       "      background-color: #E2EBFA;\n",
       "      box-shadow: 0px 1px 2px rgba(60, 64, 67, 0.3), 0px 1px 3px 1px rgba(60, 64, 67, 0.15);\n",
       "      fill: #174EA6;\n",
       "    }\n",
       "\n",
       "    [theme=dark] .colab-df-convert {\n",
       "      background-color: #3B4455;\n",
       "      fill: #D2E3FC;\n",
       "    }\n",
       "\n",
       "    [theme=dark] .colab-df-convert:hover {\n",
       "      background-color: #434B5C;\n",
       "      box-shadow: 0px 1px 3px 1px rgba(0, 0, 0, 0.15);\n",
       "      filter: drop-shadow(0px 1px 2px rgba(0, 0, 0, 0.3));\n",
       "      fill: #FFFFFF;\n",
       "    }\n",
       "  </style>\n",
       "\n",
       "      <script>\n",
       "        const buttonEl =\n",
       "          document.querySelector('#df-5116a286-b1a7-43cd-84a2-15c7f458fed5 button.colab-df-convert');\n",
       "        buttonEl.style.display =\n",
       "          google.colab.kernel.accessAllowed ? 'block' : 'none';\n",
       "\n",
       "        async function convertToInteractive(key) {\n",
       "          const element = document.querySelector('#df-5116a286-b1a7-43cd-84a2-15c7f458fed5');\n",
       "          const dataTable =\n",
       "            await google.colab.kernel.invokeFunction('convertToInteractive',\n",
       "                                                     [key], {});\n",
       "          if (!dataTable) return;\n",
       "\n",
       "          const docLinkHtml = 'Like what you see? Visit the ' +\n",
       "            '<a target=\"_blank\" href=https://colab.research.google.com/notebooks/data_table.ipynb>data table notebook</a>'\n",
       "            + ' to learn more about interactive tables.';\n",
       "          element.innerHTML = '';\n",
       "          dataTable['output_type'] = 'display_data';\n",
       "          await google.colab.output.renderOutput(dataTable, element);\n",
       "          const docLink = document.createElement('div');\n",
       "          docLink.innerHTML = docLinkHtml;\n",
       "          element.appendChild(docLink);\n",
       "        }\n",
       "      </script>\n",
       "    </div>\n",
       "  </div>\n",
       "  "
      ],
      "text/plain": [
       "      LotArea HouseStyle  OverallQual  Fireplaces  TotalBsmtSF\n",
       "0      8450.0     2Story          7.0         0.0        856.0\n",
       "1      9600.0     1Story          6.0         1.0       1262.0\n",
       "2     11250.0     2Story          7.0         1.0        920.0\n",
       "3      9550.0     2Story          7.0         1.0        756.0\n",
       "4     14260.0     2Story          8.0         1.0       1145.0\n",
       "...       ...        ...          ...         ...          ...\n",
       "1455   7917.0     2Story          6.0         1.0        953.0\n",
       "1456  13175.0     1Story          6.0         2.0       1542.0\n",
       "1457   9042.0     2Story          7.0         2.0       1152.0\n",
       "1458   9717.0     1Story          5.0         0.0       1078.0\n",
       "1459   9937.0     1Story          5.0         0.0       1256.0\n",
       "\n",
       "[1460 rows x 5 columns]"
      ]
     },
     "execution_count": 15,
     "metadata": {},
     "output_type": "execute_result"
    }
   ],
   "source": [
    "data = housing.data[['LotArea', 'HouseStyle', 'OverallQual', 'Fireplaces', 'TotalBsmtSF']]\n",
    "data"
   ]
  },
  {
   "cell_type": "code",
   "execution_count": null,
   "metadata": {
    "colab": {
     "base_uri": "https://localhost:8080/"
    },
    "id": "gY4YJ04LKeMp",
    "outputId": "fbc143a2-6256-40cc-d2e7-8fcb14ff7252"
   },
   "outputs": [
    {
     "name": "stdout",
     "output_type": "stream",
     "text": [
      "Point Biserial: PointbiserialrResult(correlation=0.5378084986123912, pvalue=3.130271237707405e-110)\n",
      "Pearson: (0.3495100453286647, 4.354700578698111e-43)\n",
      "Chi2 Contingency: (63.6285211674773, 3.5522363344136845e-06, 21, array([[7.27808219e+01, 6.85616438e+01, 1.21301370e+01, 5.27397260e-01],\n",
      "       [6.61643836e+00, 6.23287671e+00, 1.10273973e+00, 4.79452055e-02],\n",
      "       [3.43109589e+02, 3.23219178e+02, 5.71849315e+01, 2.48630137e+00],\n",
      "       [3.78082192e+00, 3.56164384e+00, 6.30136986e-01, 2.73972603e-02],\n",
      "       [5.19863014e+00, 4.89726027e+00, 8.66438356e-01, 3.76712329e-02],\n",
      "       [2.10308219e+02, 1.98116438e+02, 3.50513699e+01, 1.52397260e+00],\n",
      "       [1.74863014e+01, 1.64726027e+01, 2.91438356e+00, 1.26712329e-01],\n",
      "       [3.07191781e+01, 2.89383562e+01, 5.11986301e+00, 2.22602740e-01]]))\n"
     ]
    }
   ],
   "source": [
    "print(\"Point Biserial:\", st.pointbiserialr(data.OverallQual, data.TotalBsmtSF))\n",
    "print(\"Pearson:\", st.pearsonr(data_clean.LotArea, data_clean.TotalBsmtSF))\n",
    "\n",
    "freq_fire = pd.crosstab(index=data.HouseStyle, columns=data.Fireplaces)\n",
    "print(\"Chi2 Contingency:\", st.chi2_contingency(freq_fire))\n"
   ]
  },
  {
   "cell_type": "markdown",
   "metadata": {
    "id": "XuAZ30JkTHdg"
   },
   "source": [
    "Спостерігається виразна кореляція між категорією якості і загальною площею підвального приміщення (точково бісерійний аналіз). Вірогідно наявність та розміри підвалу були важливим фактором при оцінці будинку. Також є кореляція між загальною площею та розмірами підвалу (коефіцієнт Пірсона).\n",
    "Окрім цього є кореляція між стилем приміщення та наявністю в ньому каміну (хі квадрат для двох категоріальних параметрів)"
   ]
  },
  {
   "cell_type": "markdown",
   "metadata": {
    "id": "JqX9jAaAQU1q"
   },
   "source": [
    "### **Завдання 8** (3 бали)\n",
    "\n",
    "Напишіть самостійно функції для MSE та MAE. Функції мають приймати два numpy array і віддавати на вихід число. Перевірте їх на наступних даних і звіртесь з відповіддю:\n",
    "\n",
    "\n",
    "```\n",
    "list1 = np.array([1,2,3,4,5])\n",
    "list2 = np.array([0,4,2,3,2])\n",
    "mse = your_mse_function(list1, list2)\n",
    "mae = your_mae_function(list1, list2)\n",
    "### ANSWERS\n",
    "mse = 3.2\n",
    "mae = 1.6\n",
    "```\n",
    "\n"
   ]
  },
  {
   "cell_type": "code",
   "execution_count": 8,
   "metadata": {
    "id": "TL0nytn_RGKi"
   },
   "outputs": [],
   "source": [
    "def your_mse_function(y_t, y_p):\n",
    "  mse = np.square(np.subtract(y_t, y_p)).mean()\n",
    "  return mse\n",
    "\n",
    "def your_mae_function(y_t, y_p):\n",
    "  mae = np.mean(np.abs(y_t - y_p))\n",
    "  return mae\n"
   ]
  },
  {
   "cell_type": "code",
   "execution_count": 9,
   "metadata": {
    "colab": {
     "base_uri": "https://localhost:8080/"
    },
    "id": "r_ZfZnKbMgkT",
    "outputId": "75b950e8-3725-4aba-fed0-6e21146269ca"
   },
   "outputs": [
    {
     "name": "stdout",
     "output_type": "stream",
     "text": [
      "3.2\n",
      "1.6\n"
     ]
    }
   ],
   "source": [
    "list1 = np.array([1,2,3,4,5])\n",
    "list2 = np.array([0,4,2,3,2])\n",
    "print(your_mse_function(list1, list2))\n",
    "print(your_mae_function(list1, list2))"
   ]
  },
  {
   "cell_type": "markdown",
   "metadata": {
    "id": "8m2kkNtqUbX0"
   },
   "source": [
    "### **Завдання 9** (7 балів)\n",
    "\n",
    "Виберіть 5 колонок з даних ([Data info (Ames housing dataset)](https://www.openml.org/d/42165)) і побудуйте лінійну регресію для прогнозування ціни (housing.target). Спробуйте покращити модель додаючи нові трансформації (побудуйте 3 варіанти моделі). Кожну модель оцініть за допомогою MSE та MAE. Прокоментуйте яка модель найкраще пояснює дані?"
   ]
  },
  {
   "cell_type": "code",
   "execution_count": 4,
   "metadata": {
    "id": "lFGKLH0wDfeJ"
   },
   "outputs": [],
   "source": [
    "from sklearn.datasets import fetch_openml\n",
    "housing = fetch_openml(name=\"house_prices\", as_frame=True)\n",
    "data = housing.data[[\"OverallQual\", \"GrLivArea\", \"LotArea\", \"TotalBsmtSF\", \"HouseStyle\"]]\n",
    "target = housing.target\n",
    "data = pd.concat([data, target], axis = 1)"
   ]
  },
  {
   "cell_type": "code",
   "execution_count": 6,
   "metadata": {},
   "outputs": [
    {
     "data": {
      "text/plain": [
       "180921.19589041095"
      ]
     },
     "execution_count": 6,
     "metadata": {},
     "output_type": "execute_result"
    }
   ],
   "source": [
    "target.mean()"
   ]
  },
  {
   "cell_type": "code",
   "execution_count": 12,
   "metadata": {
    "colab": {
     "base_uri": "https://localhost:8080/"
    },
    "id": "EQKI9NNRpnbq",
    "outputId": "20a817ef-5ba4-46a3-991b-b27c6dd5116c"
   },
   "outputs": [
    {
     "name": "stdout",
     "output_type": "stream",
     "text": [
      "\n",
      "------------------------------All parameters\n",
      "                            OLS Regression Results                            \n",
      "==============================================================================\n",
      "Dep. Variable:              SalePrice   R-squared:                       0.793\n",
      "Model:                            OLS   Adj. R-squared:                  0.790\n",
      "Method:                 Least Squares   F-statistic:                     290.1\n",
      "Date:                Sun, 15 May 2022   Prob (F-statistic):               0.00\n",
      "Time:                        16:32:51   Log-Likelihood:                -17395.\n",
      "No. Observations:                1460   AIC:                         3.483e+04\n",
      "Df Residuals:                    1440   BIC:                         3.494e+04\n",
      "Df Model:                          19                                         \n",
      "Covariance Type:            nonrobust                                         \n",
      "===========================================================================================\n",
      "                              coef    std err          t      P>|t|      [0.025      0.975]\n",
      "-------------------------------------------------------------------------------------------\n",
      "Intercept               -1.886e+04   2.61e+04     -0.722      0.471   -7.01e+04    3.24e+04\n",
      "C(OverallQual)[T.2.0]    4001.9720   3.32e+04      0.120      0.904   -6.12e+04    6.92e+04\n",
      "C(OverallQual)[T.3.0]    1.114e+04    2.7e+04      0.412      0.680   -4.19e+04    6.42e+04\n",
      "C(OverallQual)[T.4.0]     2.94e+04    2.6e+04      1.130      0.259   -2.16e+04    8.04e+04\n",
      "C(OverallQual)[T.5.0]    4.281e+04   2.59e+04      1.653      0.099   -8005.270    9.36e+04\n",
      "C(OverallQual)[T.6.0]    6.053e+04    2.6e+04      2.331      0.020    9596.962    1.11e+05\n",
      "C(OverallQual)[T.7.0]    9.038e+04    2.6e+04      3.471      0.001    3.93e+04    1.41e+05\n",
      "C(OverallQual)[T.8.0]    1.369e+05   2.62e+04      5.220      0.000    8.55e+04    1.88e+05\n",
      "C(OverallQual)[T.9.0]    2.144e+05   2.68e+04      8.004      0.000    1.62e+05    2.67e+05\n",
      "C(OverallQual)[T.10.0]   2.296e+05   2.81e+04      8.183      0.000    1.75e+05    2.85e+05\n",
      "C(HouseStyle)[T.1.5Unf]  7724.1259   1.04e+04      0.742      0.458   -1.27e+04    2.81e+04\n",
      "C(HouseStyle)[T.1Story]  2.383e+04   3794.707      6.280      0.000    1.64e+04    3.13e+04\n",
      "C(HouseStyle)[T.2.5Fin]  -2.87e+04   1.38e+04     -2.078      0.038   -5.58e+04   -1602.271\n",
      "C(HouseStyle)[T.2.5Unf] -3.478e+04   1.15e+04     -3.031      0.002   -5.73e+04   -1.23e+04\n",
      "C(HouseStyle)[T.2Story]  1.211e+04   3642.710      3.324      0.001    4963.578    1.93e+04\n",
      "C(HouseStyle)[T.SFoyer]  2.999e+04   6969.237      4.303      0.000    1.63e+04    4.37e+04\n",
      "C(HouseStyle)[T.SLvl]    2.448e+04   5479.181      4.468      0.000    1.37e+04    3.52e+04\n",
      "GrLivArea                  57.1265      3.435     16.632      0.000      50.389      63.864\n",
      "LotArea                     0.6691      0.102      6.570      0.000       0.469       0.869\n",
      "TotalBsmtSF                14.0315      3.685      3.808      0.000       6.803      21.260\n",
      "==============================================================================\n",
      "Omnibus:                      892.754   Durbin-Watson:                   1.994\n",
      "Prob(Omnibus):                  0.000   Jarque-Bera (JB):            97432.370\n",
      "Skew:                          -1.920   Prob(JB):                         0.00\n",
      "Kurtosis:                      42.836   Cond. No.                     1.26e+06\n",
      "==============================================================================\n",
      "\n",
      "Notes:\n",
      "[1] Standard Errors assume that the covariance matrix of the errors is correctly specified.\n",
      "[2] The condition number is large, 1.26e+06. This might indicate that there are\n",
      "strong multicollinearity or other numerical problems.\n",
      "MSE result: 1306458532.4032753\n",
      "MAE result: 22573.782306280864\n",
      "\n",
      "------------------------------Only numerical\n",
      "                            OLS Regression Results                            \n",
      "==============================================================================\n",
      "Dep. Variable:              SalePrice   R-squared:                       0.610\n",
      "Model:                            OLS   Adj. R-squared:                  0.609\n",
      "Method:                 Least Squares   F-statistic:                     758.6\n",
      "Date:                Sun, 15 May 2022   Prob (F-statistic):          6.49e-297\n",
      "Time:                        16:32:51   Log-Likelihood:                -17857.\n",
      "No. Observations:                1460   AIC:                         3.572e+04\n",
      "Df Residuals:                    1456   BIC:                         3.574e+04\n",
      "Df Model:                           3                                         \n",
      "Covariance Type:            nonrobust                                         \n",
      "===============================================================================\n",
      "                  coef    std err          t      P>|t|      [0.025      0.975]\n",
      "-------------------------------------------------------------------------------\n",
      "Intercept    -1.37e+04   4283.473     -3.199      0.001   -2.21e+04   -5299.265\n",
      "GrLivArea      81.0996      2.819     28.768      0.000      75.570      86.629\n",
      "LotArea         0.2246      0.137      1.641      0.101      -0.044       0.493\n",
      "TotalBsmtSF    65.5903      3.374     19.437      0.000      58.971      72.210\n",
      "==============================================================================\n",
      "Omnibus:                      789.062   Durbin-Watson:                   1.966\n",
      "Prob(Omnibus):                  0.000   Jarque-Bera (JB):            62830.278\n",
      "Skew:                          -1.642   Prob(JB):                         0.00\n",
      "Kurtosis:                      34.969   Cond. No.                     4.80e+04\n",
      "==============================================================================\n",
      "\n",
      "Notes:\n",
      "[1] Standard Errors assume that the covariance matrix of the errors is correctly specified.\n",
      "[2] The condition number is large, 4.8e+04. This might indicate that there are\n",
      "strong multicollinearity or other numerical problems.\n",
      "MSE result: 2460743946.124123\n",
      "MAE result: 31828.563413430944\n",
      "\n",
      "------------------------------Log LotArea\n",
      "                            OLS Regression Results                            \n",
      "==============================================================================\n",
      "Dep. Variable:              SalePrice   R-squared:                       0.797\n",
      "Model:                            OLS   Adj. R-squared:                  0.794\n",
      "Method:                 Least Squares   F-statistic:                     297.5\n",
      "Date:                Sun, 15 May 2022   Prob (F-statistic):               0.00\n",
      "Time:                        16:32:51   Log-Likelihood:                -17380.\n",
      "No. Observations:                1460   AIC:                         3.480e+04\n",
      "Df Residuals:                    1440   BIC:                         3.491e+04\n",
      "Df Model:                          19                                         \n",
      "Covariance Type:            nonrobust                                         \n",
      "===========================================================================================\n",
      "                              coef    std err          t      P>|t|      [0.025      0.975]\n",
      "-------------------------------------------------------------------------------------------\n",
      "Intercept               -1.681e+05   3.13e+04     -5.374      0.000   -2.29e+05   -1.07e+05\n",
      "C(OverallQual)[T.2.0]    2273.4908   3.29e+04      0.069      0.945   -6.22e+04    6.68e+04\n",
      "C(OverallQual)[T.3.0]      1.2e+04   2.68e+04      0.449      0.654   -4.05e+04    6.45e+04\n",
      "C(OverallQual)[T.4.0]    3.054e+04   2.58e+04      1.186      0.236      -2e+04    8.11e+04\n",
      "C(OverallQual)[T.5.0]    4.274e+04   2.56e+04      1.667      0.096   -7567.724     9.3e+04\n",
      "C(OverallQual)[T.6.0]    6.165e+04   2.57e+04      2.398      0.017    1.12e+04    1.12e+05\n",
      "C(OverallQual)[T.7.0]    9.213e+04   2.58e+04      3.574      0.000    4.16e+04    1.43e+05\n",
      "C(OverallQual)[T.8.0]    1.386e+05    2.6e+04      5.338      0.000    8.77e+04     1.9e+05\n",
      "C(OverallQual)[T.9.0]    2.149e+05   2.65e+04      8.108      0.000    1.63e+05    2.67e+05\n",
      "C(OverallQual)[T.10.0]   2.331e+05   2.78e+04      8.389      0.000    1.79e+05    2.88e+05\n",
      "C(HouseStyle)[T.1.5Unf]  5271.2645   1.03e+04      0.512      0.609   -1.49e+04    2.55e+04\n",
      "C(HouseStyle)[T.1Story]  2.041e+04   3778.647      5.402      0.000     1.3e+04    2.78e+04\n",
      "C(HouseStyle)[T.2.5Fin] -2.348e+04   1.37e+04     -1.713      0.087   -5.04e+04    3402.710\n",
      "C(HouseStyle)[T.2.5Unf] -3.415e+04   1.14e+04     -3.006      0.003   -5.64e+04   -1.19e+04\n",
      "C(HouseStyle)[T.2Story]  1.369e+04   3616.855      3.784      0.000    6590.157    2.08e+04\n",
      "C(HouseStyle)[T.SFoyer]  2.945e+04   6899.505      4.268      0.000    1.59e+04     4.3e+04\n",
      "C(HouseStyle)[T.SLvl]    2.069e+04   5445.710      3.800      0.000       1e+04    3.14e+04\n",
      "GrLivArea                  50.0400      3.594     13.925      0.000      42.991      57.089\n",
      "np.log(LotArea)          1.824e+04   2129.535      8.565      0.000    1.41e+04    2.24e+04\n",
      "TotalBsmtSF                15.2136      3.630      4.191      0.000       8.093      22.334\n",
      "==============================================================================\n",
      "Omnibus:                      826.802   Durbin-Watson:                   1.997\n",
      "Prob(Omnibus):                  0.000   Jarque-Bera (JB):            85646.088\n",
      "Skew:                          -1.699   Prob(JB):                         0.00\n",
      "Kurtosis:                      40.368   Cond. No.                     1.68e+05\n",
      "==============================================================================\n",
      "\n",
      "Notes:\n",
      "[1] Standard Errors assume that the covariance matrix of the errors is correctly specified.\n",
      "[2] The condition number is large, 1.68e+05. This might indicate that there are\n",
      "strong multicollinearity or other numerical problems.\n",
      "MSE result: 1280394009.2730474\n",
      "MAE result: 22315.025765950028\n"
     ]
    }
   ],
   "source": [
    "from statsmodels.formula.api import ols as OLS_formula\n",
    "\n",
    "ols = OLS_formula(data = data, formula = \"SalePrice ~  C(OverallQual) + GrLivArea + LotArea + TotalBsmtSF + C(HouseStyle)\")\n",
    "ols = ols.fit()\n",
    "print(\"\\n------------------------------All parameters\")\n",
    "print(ols.summary())\n",
    "preds = ols.predict(data)\n",
    "print('MSE result: ' + str(your_mse_function(target, preds)))\n",
    "print('MAE result: ' + str(your_mae_function(np.array(target), np.array(preds))))\n",
    "\n",
    "ols = OLS_formula(data = data, formula = \"SalePrice ~ GrLivArea + LotArea + TotalBsmtSF\")\n",
    "ols = ols.fit()\n",
    "print(\"\\n------------------------------Only numerical\")\n",
    "print(ols.summary())\n",
    "preds = ols.predict(data)\n",
    "print('MSE result: ' + str(your_mse_function(target, preds)))\n",
    "print('MAE result: ' + str(your_mae_function(target, preds)))\n",
    "\n",
    "ols = OLS_formula(data = data, formula = \"SalePrice ~  C(OverallQual) + GrLivArea + np.log(LotArea) + TotalBsmtSF + C(HouseStyle)\")\n",
    "ols = ols.fit()\n",
    "print(\"\\n------------------------------Log LotArea\")\n",
    "print(ols.summary())\n",
    "preds = ols.predict(data)\n",
    "print('MSE result: ' + str(your_mse_function(target, preds)))\n",
    "print('MAE result: ' + str(your_mae_function(target, preds)))\n"
   ]
  },
  {
   "cell_type": "markdown",
   "metadata": {
    "id": "aWOg06kFp_ro"
   },
   "source": [
    "При врахуванні усіх п'ятьох обраних параметрів модель досить добре описує кореляцію. Найбільший позитивний вплив є у оцінці загальної якості будівлі: чим вищий рівень, тим більша ціна. Якщо ми візьмемо лише кількісні параметри , то показник R-squared зменшується, так само як і MAE , скоріше за все тому, що менше параметрів враховується для тренування моделі. У другому варіанті також видно, що LotArea є не надто корисним для моделі, можливо через аутлаєри, тому у третьому варіанті цей показник був видозмінений. У цьому варіанті MAE - мінімальна, а показник R-squared найвищий.\n",
    "Отже третя модель тут вірогідно є найбільш оптимальною, оскільки R-squared найвищий, а аутлаєри у параметрі LotArea менше впливають на результат. Але найкраща модель враховувала б всі параметри, але без частини категорій в якісних змінних, що я і зробила в наступному завданні."
   ]
  },
  {
   "cell_type": "markdown",
   "metadata": {
    "id": "qBnkA0q7k7tS"
   },
   "source": [
    "### **Завдання 10** (5 балів)\n",
    "\n",
    "Погляньте на коефіцієнти найкращої моделі. Чи є такі, які показують, що предиктор не важливий? Спробуйте видалити ці предиктори. Чи сильно змінились коефіцієнти тих предикторів, які лишились? Ітерпертуйте їх значення."
   ]
  },
  {
   "cell_type": "markdown",
   "metadata": {
    "id": "yhIXVv_R4xa4"
   },
   "source": [
    "В попередніх моделях було видно, що у деяких категоріальних змінних частина категорій мають дуже велике p-value, тому я спробувала їх видалити. Я не знайшла як це зробити із попередньою нотацією, тому звернулась до даммі змінних та модулю statsmodels.api. Тут майже всі коефіцієнти мають p-value близьке до нуля, найвищий R-squared, а також менша у порівнянні з другою моделлю MAE. Три коефіцієнта мають від'ємну кореляцію: так, вірогідно низькі рівні якості зменшують загальну ціну будівлі. Але для мене залишилось незрозумілим, чому загальна площа також негативно корелює із ціною "
   ]
  },
  {
   "cell_type": "code",
   "execution_count": 47,
   "metadata": {
    "id": "bTOSzHsszN98"
   },
   "outputs": [],
   "source": [
    "HouseStyle_map = {'2Story':1, \n",
    "                  '1Story':2, \n",
    "                  '1.5Fin':3, \n",
    "                  '1.5Unf':4, \n",
    "                  'SFoyer':5, \n",
    "                  'SLvl':6, \n",
    "                  '2.5Unf':7,\n",
    "                  '2.5Fin':8}\n",
    "                  \n",
    "data[\"HouseStyle\"] = data[\"HouseStyle\"].map(HouseStyle_map)  "
   ]
  },
  {
   "cell_type": "code",
   "execution_count": 48,
   "metadata": {
    "id": "Aa8BisYMzgvS"
   },
   "outputs": [],
   "source": [
    "data = pd.concat([data, pd.get_dummies(data['HouseStyle'].astype('str'), prefix = 's')], axis = 1)"
   ]
  },
  {
   "cell_type": "code",
   "execution_count": 49,
   "metadata": {
    "id": "fVMlihFU1B-b"
   },
   "outputs": [],
   "source": [
    "data = pd.concat([data, pd.get_dummies(data['OverallQual'].astype('str'), prefix = 'q')], axis = 1)"
   ]
  },
  {
   "cell_type": "code",
   "execution_count": 50,
   "metadata": {
    "id": "tfth6Thy8VmR"
   },
   "outputs": [],
   "source": [
    "data[\"LotArea\"] = np.log(data[\"LotArea\"])"
   ]
  },
  {
   "cell_type": "code",
   "execution_count": 51,
   "metadata": {
    "colab": {
     "base_uri": "https://localhost:8080/"
    },
    "id": "aCf9mCwS5S20",
    "outputId": "faaf0188-6da0-49df-dde0-d58c028e19bd"
   },
   "outputs": [
    {
     "name": "stdout",
     "output_type": "stream",
     "text": [
      "                                 OLS Regression Results                                \n",
      "=======================================================================================\n",
      "Dep. Variable:              SalePrice   R-squared (uncentered):                   0.961\n",
      "Model:                            OLS   Adj. R-squared (uncentered):              0.961\n",
      "Method:                 Least Squares   F-statistic:                              3004.\n",
      "Date:                Fri, 15 Apr 2022   Prob (F-statistic):                        0.00\n",
      "Time:                        20:37:37   Log-Likelihood:                         -17499.\n",
      "No. Observations:                1460   AIC:                                  3.502e+04\n",
      "Df Residuals:                    1448   BIC:                                  3.509e+04\n",
      "Df Model:                          12                                                  \n",
      "Covariance Type:            nonrobust                                                  \n",
      "===============================================================================\n",
      "                  coef    std err          t      P>|t|      [0.025      0.975]\n",
      "-------------------------------------------------------------------------------\n",
      "OverallQual  2.056e+04   1607.114     12.790      0.000    1.74e+04    2.37e+04\n",
      "GrLivArea      62.0947      3.474     17.875      0.000      55.280      68.909\n",
      "LotArea     -8840.9491    898.147     -9.844      0.000   -1.06e+04   -7079.141\n",
      "TotalBsmtSF    25.7568      3.776      6.822      0.000      18.351      33.163\n",
      "s_1          1.152e+04   3588.393      3.212      0.001    4485.381    1.86e+04\n",
      "s_2          2.025e+04   3818.939      5.303      0.000    1.28e+04    2.77e+04\n",
      "s_5          2.407e+04   7290.492      3.302      0.001    9771.266    3.84e+04\n",
      "s_6          2.406e+04   5733.058      4.196      0.000    1.28e+04    3.53e+04\n",
      "q_6.0       -1.246e+04   3184.843     -3.914      0.000   -1.87e+04   -6216.678\n",
      "q_7.0       -4621.1719   4235.036     -1.091      0.275   -1.29e+04    3686.291\n",
      "q_8.0        1.846e+04   5713.202      3.231      0.001    7253.047    2.97e+04\n",
      "q_9.0        7.487e+04   8518.626      8.789      0.000    5.82e+04    9.16e+04\n",
      "==============================================================================\n",
      "Omnibus:                      420.782   Durbin-Watson:                   1.983\n",
      "Prob(Omnibus):                  0.000   Jarque-Bera (JB):            33282.200\n",
      "Skew:                          -0.323   Prob(JB):                         0.00\n",
      "Kurtosis:                      26.381   Cond. No.                     1.93e+04\n",
      "==============================================================================\n",
      "\n",
      "Warnings:\n",
      "[1] Standard Errors assume that the covariance matrix of the errors is correctly specified.\n",
      "[2] The condition number is large, 1.93e+04. This might indicate that there are\n",
      "strong multicollinearity or other numerical problems.\n",
      "MSE result: 1507691027.8988242\n",
      "MAE result: 24721.35190290901\n"
     ]
    }
   ],
   "source": [
    "from statsmodels.api import OLS\n",
    "\n",
    "ols = OLS(data.SalePrice, data[[\"OverallQual\", \"GrLivArea\", \"LotArea\", \"TotalBsmtSF\", \"s_1\", \"s_2\", \"s_5\", \"s_6\",\n",
    "                                \"q_6.0\", \"q_7.0\", \"q_8.0\", \"q_9.0\"]])\n",
    "ols = ols.fit()\n",
    "print(ols.summary())\n",
    "preds = ols.predict(data[[\"OverallQual\", \"GrLivArea\", \"LotArea\", \"TotalBsmtSF\", \"s_1\", \"s_2\", \"s_5\", \"s_6\",\n",
    "                                \"q_6.0\", \"q_7.0\", \"q_8.0\", \"q_9.0\"]])\n",
    "print('MSE result: ' + str(your_mse_function(target, preds)))\n",
    "print('MAE result: ' + str(your_mae_function(target, preds)))"
   ]
  },
  {
   "cell_type": "markdown",
   "metadata": {
    "id": "mFq_LsgWFgvQ"
   },
   "source": [
    "### **Завдання 11** (4 бали)\n",
    "\n",
    "Побудуйте бінарну логістичну регресію на даних про громадські проекти. Предиктори:\n",
    "\n",
    "\n",
    "*   expected_amount - num - бюджет\n",
    "*   location - cat - місто проекту\n",
    "* platform - cat - платформа, де дув опублікований проект\n",
    "* platform_type - cat - джерело фінансування\n",
    "* capital - тип проекту\n",
    "* year - рік публікації проекту\n",
    "\n",
    "Цільова:\n",
    "\n",
    "* status_num - cat - мітка реалізації проекту (1 - успішний, 0 - ні)\n",
    "\n",
    "\n",
    "Прокоментуйте значення коефіцієнтів. Який з них впливає позитивно на успішність проекту? А який ні? Наскільки сильно? Чи є предиктор, який не впливає на цільову взагалі?"
   ]
  },
  {
   "cell_type": "code",
   "execution_count": 19,
   "metadata": {
    "id": "J-tgq_94MT-6"
   },
   "outputs": [],
   "source": [
    "df = pd.read_csv('https://github.com/NataliaNovosad/Datasets/blob/master/cleaned_public_projects.csv?raw=true')"
   ]
  },
  {
   "cell_type": "code",
   "execution_count": 20,
   "metadata": {
    "colab": {
     "base_uri": "https://localhost:8080/",
     "height": 206
    },
    "id": "045kVZVC-0HE",
    "outputId": "f93ce128-2090-42a7-97bb-6df6804b7767"
   },
   "outputs": [
    {
     "data": {
      "text/html": [
       "<div>\n",
       "<style scoped>\n",
       "    .dataframe tbody tr th:only-of-type {\n",
       "        vertical-align: middle;\n",
       "    }\n",
       "\n",
       "    .dataframe tbody tr th {\n",
       "        vertical-align: top;\n",
       "    }\n",
       "\n",
       "    .dataframe thead th {\n",
       "        text-align: right;\n",
       "    }\n",
       "</style>\n",
       "<table border=\"1\" class=\"dataframe\">\n",
       "  <thead>\n",
       "    <tr style=\"text-align: right;\">\n",
       "      <th></th>\n",
       "      <th>status_num</th>\n",
       "      <th>expected_amount</th>\n",
       "      <th>location</th>\n",
       "      <th>platform</th>\n",
       "      <th>platform_type</th>\n",
       "      <th>capital</th>\n",
       "      <th>year</th>\n",
       "    </tr>\n",
       "  </thead>\n",
       "  <tbody>\n",
       "    <tr>\n",
       "      <th>0</th>\n",
       "      <td>0</td>\n",
       "      <td>18000000.0</td>\n",
       "      <td>Житомир</td>\n",
       "      <td>Unknown</td>\n",
       "      <td>Громадський бюджет</td>\n",
       "      <td>Інфраструктурний</td>\n",
       "      <td>2020</td>\n",
       "    </tr>\n",
       "    <tr>\n",
       "      <th>1</th>\n",
       "      <td>0</td>\n",
       "      <td>18000000.0</td>\n",
       "      <td>Житомир</td>\n",
       "      <td>Unknown</td>\n",
       "      <td>Громадський бюджет</td>\n",
       "      <td>Інфраструктурний</td>\n",
       "      <td>2020</td>\n",
       "    </tr>\n",
       "    <tr>\n",
       "      <th>2</th>\n",
       "      <td>0</td>\n",
       "      <td>18000000.0</td>\n",
       "      <td>Житомир</td>\n",
       "      <td>Unknown</td>\n",
       "      <td>Громадський бюджет</td>\n",
       "      <td>Інфраструктурний</td>\n",
       "      <td>2020</td>\n",
       "    </tr>\n",
       "    <tr>\n",
       "      <th>3</th>\n",
       "      <td>1</td>\n",
       "      <td>13061664.0</td>\n",
       "      <td>Полтава</td>\n",
       "      <td>Unknown</td>\n",
       "      <td>Громадський бюджет</td>\n",
       "      <td>Інфраструктурний</td>\n",
       "      <td>2019</td>\n",
       "    </tr>\n",
       "    <tr>\n",
       "      <th>4</th>\n",
       "      <td>0</td>\n",
       "      <td>10166606.0</td>\n",
       "      <td>Полтава</td>\n",
       "      <td>Unknown</td>\n",
       "      <td>Громадський бюджет</td>\n",
       "      <td>Інфраструктурний</td>\n",
       "      <td>2019</td>\n",
       "    </tr>\n",
       "  </tbody>\n",
       "</table>\n",
       "</div>"
      ],
      "text/plain": [
       "   status_num  expected_amount location platform       platform_type  \\\n",
       "0           0       18000000.0  Житомир  Unknown  Громадський бюджет   \n",
       "1           0       18000000.0  Житомир  Unknown  Громадський бюджет   \n",
       "2           0       18000000.0  Житомир  Unknown  Громадський бюджет   \n",
       "3           1       13061664.0  Полтава  Unknown  Громадський бюджет   \n",
       "4           0       10166606.0  Полтава  Unknown  Громадський бюджет   \n",
       "\n",
       "            capital  year  \n",
       "0  Інфраструктурний  2020  \n",
       "1  Інфраструктурний  2020  \n",
       "2  Інфраструктурний  2020  \n",
       "3  Інфраструктурний  2019  \n",
       "4  Інфраструктурний  2019  "
      ]
     },
     "execution_count": 20,
     "metadata": {},
     "output_type": "execute_result"
    }
   ],
   "source": [
    "df.head()"
   ]
  },
  {
   "cell_type": "code",
   "execution_count": 30,
   "metadata": {
    "colab": {
     "base_uri": "https://localhost:8080/"
    },
    "id": "sEAexRRsMZz0",
    "outputId": "f40b6193-1ec1-432a-e754-3dee373772fb"
   },
   "outputs": [
    {
     "data": {
      "text/plain": [
       "Громадський бюджет    14214\n",
       "Краудфандинг           1767\n",
       "Name: platform_type, dtype: int64"
      ]
     },
     "execution_count": 30,
     "metadata": {},
     "output_type": "execute_result"
    }
   ],
   "source": [
    "df.platform_type.value_counts()"
   ]
  },
  {
   "cell_type": "code",
   "execution_count": 27,
   "metadata": {
    "colab": {
     "base_uri": "https://localhost:8080/"
    },
    "id": "SE7vcvBGJXTQ",
    "outputId": "afaaf709-3b9e-4344-8d5f-80b10b845af3"
   },
   "outputs": [
    {
     "name": "stderr",
     "output_type": "stream",
     "text": [
      "C:\\Users\\alisa\\miniconda3\\envs\\chesno\\lib\\site-packages\\statsmodels\\discrete\\discrete_model.py:2331: RuntimeWarning: divide by zero encountered in log\n",
      "  logprob = np.log(self.cdf(np.dot(self.exog,params)))\n",
      "C:\\Users\\alisa\\miniconda3\\envs\\chesno\\lib\\site-packages\\statsmodels\\discrete\\discrete_model.py:2332: RuntimeWarning: invalid value encountered in multiply\n",
      "  return np.sum(d * logprob)\n"
     ]
    },
    {
     "name": "stdout",
     "output_type": "stream",
     "text": [
      "Warning: Maximum number of iterations has been exceeded.\n",
      "         Current function value: 0.583526\n",
      "         Iterations: 35\n",
      "         Function evaluations: 49\n",
      "         Gradient evaluations: 49\n",
      "                          MNLogit Regression Results                          \n",
      "==============================================================================\n",
      "Dep. Variable:             status_num   No. Observations:                15981\n",
      "Model:                        MNLogit   Df Residuals:                    15925\n",
      "Method:                           MLE   Df Model:                           55\n",
      "Date:                Sun, 17 Apr 2022   Pseudo R-squ.:                 0.08844\n",
      "Time:                        15:57:54   Log-Likelihood:                -9325.3\n",
      "converged:                      False   LL-Null:                       -10230.\n",
      "Covariance Type:            nonrobust   LLR p-value:                     0.000\n",
      "=====================================================================================================================================\n",
      "                                                     status_num=1       coef    std err          z      P>|z|      [0.025      0.975]\n",
      "-------------------------------------------------------------------------------------------------------------------------------------\n",
      "Intercept                                                            -0.2180      2.420     -0.090      0.928      -4.962       4.526\n",
      "C(location)[T.Івано-Франківськ]                                      -0.2031      0.221     -0.917      0.359      -0.637       0.231\n",
      "C(location)[T.Бердянськ]                                             -0.2977      0.265     -1.125      0.261      -0.817       0.221\n",
      "C(location)[T.Біла Церква]                                            0.8761      0.350      2.504      0.012       0.190       1.562\n",
      "C(location)[T.Вінниця]                                                0.3651      0.238      1.535      0.125      -0.101       0.831\n",
      "C(location)[T.Дніпро]                                                -0.1584      0.208     -0.761      0.447      -0.566       0.250\n",
      "C(location)[T.Житомир]                                               -0.1697      0.271     -0.627      0.531      -0.700       0.361\n",
      "C(location)[T.Запоріжжя]                                              0.4531      0.241      1.877      0.060      -0.020       0.926\n",
      "C(location)[T.Кам’янське]                                            -1.2000      0.269     -4.460      0.000      -1.727      -0.673\n",
      "C(location)[T.Київ]                                                   0.2149      0.200      1.076      0.282      -0.177       0.607\n",
      "C(location)[T.Краматорськ]                                            0.1400      0.284      0.493      0.622      -0.417       0.697\n",
      "C(location)[T.Кременчук]                                             -0.4761      0.266     -1.790      0.073      -0.997       0.045\n",
      "C(location)[T.Кривий Ріг]                                             0.6907      0.229      3.019      0.003       0.242       1.139\n",
      "C(location)[T.Кропивницький]                                         -0.8184      0.263     -3.113      0.002      -1.334      -0.303\n",
      "C(location)[T.Луцьк]                                                 -0.0463      0.247     -0.187      0.852      -0.531       0.438\n",
      "C(location)[T.Львів]                                                 -0.0377      0.207     -0.182      0.856      -0.444       0.368\n",
      "C(location)[T.Маріуполь]                                             -0.0097      0.247     -0.039      0.969      -0.495       0.475\n",
      "C(location)[T.Мелітополь]                                            -0.0652      0.239     -0.272      0.785      -0.534       0.404\n",
      "C(location)[T.Миколаїв]                                              -0.8748      0.266     -3.292      0.001      -1.396      -0.354\n",
      "C(location)[T.Нікополь]                                               0.2467      0.252      0.980      0.327      -0.247       0.740\n",
      "C(location)[T.Одеса]                                                  1.3467      0.213      6.329      0.000       0.930       1.764\n",
      "C(location)[T.Павлоград]                                             -0.7029      0.357     -1.970      0.049      -1.402      -0.003\n",
      "C(location)[T.Полтава]                                               -0.8739      0.226     -3.860      0.000      -1.318      -0.430\n",
      "C(location)[T.Рівне]                                                  0.2975      0.233      1.277      0.202      -0.159       0.754\n",
      "C(location)[T.Слов'янськ]                                            -0.4939      0.315     -1.567      0.117      -1.112       0.124\n",
      "C(location)[T.Суми]                                                  -0.1910      0.288     -0.663      0.507      -0.756       0.374\n",
      "C(location)[T.Сєвєродонецьк]                                         -0.1512      0.261     -0.580      0.562      -0.662       0.360\n",
      "C(location)[T.Тернопіль]                                              0.3499      0.223      1.569      0.117      -0.087       0.787\n",
      "C(location)[T.Ужгород]                                                0.1137      0.332      0.343      0.732      -0.536       0.764\n",
      "C(location)[T.Харків]                                                 1.2704      0.256      4.966      0.000       0.769       1.772\n",
      "C(location)[T.Херсон]                                                -0.1327      0.280     -0.474      0.636      -0.682       0.416\n",
      "C(location)[T.Хмельницький]                                           0.1530      0.241      0.634      0.526      -0.320       0.626\n",
      "C(location)[T.Черкаси]                                               -0.0056      0.582     -0.010      0.992      -1.147       1.135\n",
      "C(location)[T.Чернівці]                                               0.5605      0.242      2.321      0.020       0.087       1.034\n",
      "C(location)[T.Чернігів]                                              -0.1777      0.241     -0.739      0.460      -0.649       0.294\n",
      "C(platform)[T.RazomGo]                                               -0.4022      0.313     -1.286      0.199      -1.015       0.211\n",
      "C(platform)[T.UBB]                                                    0.2611      0.233      1.121      0.262      -0.196       0.718\n",
      "C(platform)[T.Unknown]                                               -0.7499      2.050     -0.366      0.714      -4.767       3.267\n",
      "C(platform)[T.Zmist]                                                  0.2018      0.405      0.498      0.618      -0.592       0.995\n",
      "C(platform)[T.komubook]                                               0.5997      0.389      1.540      0.124      -0.163       1.363\n",
      "C(platform)[T.na-starte]                                             -1.1971      0.285     -4.206      0.000      -1.755      -0.639\n",
      "C(platform)[T.Велика Ідея]                                            0.1369      0.247      0.554      0.579      -0.347       0.621\n",
      "C(platform)[T.Мой город]                                              0.2155      0.517      0.417      0.677      -0.798       1.229\n",
      "C(platform_type)[T.Краудфандинг]                                      0.5319      2.038      0.261      0.794      -3.462       4.526\n",
      "C(capital, Treatment(reference='Культурний'))[T.Інфраструктурний]     0.1462      0.066      2.226      0.026       0.017       0.275\n",
      "C(capital, Treatment(reference='Культурний'))[T.Людський]             0.4347      0.072      6.003      0.000       0.293       0.577\n",
      "C(capital, Treatment(reference='Культурний'))[T.Соціальний]           0.6429      0.098      6.580      0.000       0.451       0.834\n",
      "C(year)[T.2013]                                                      -0.0333      0.501     -0.066      0.947      -1.015       0.949\n",
      "C(year)[T.2014]                                                      -0.4706      0.443     -1.062      0.288      -1.339       0.398\n",
      "C(year)[T.2015]                                                      -0.1968      0.462     -0.426      0.670      -1.101       0.708\n",
      "C(year)[T.2016]                                                       0.0732      0.410      0.179      0.858      -0.731       0.877\n",
      "C(year)[T.2017]                                                      -0.0075      0.408     -0.018      0.985      -0.807       0.792\n",
      "C(year)[T.2018]                                                       0.2638      0.407      0.648      0.517      -0.535       1.062\n",
      "C(year)[T.2019]                                                       0.0679      0.407      0.167      0.867      -0.730       0.865\n",
      "C(year)[T.2020]                                                      -0.0129      0.409     -0.032      0.975      -0.814       0.788\n",
      "C(year)[T.2021]                                                      -0.0585      0.408     -0.143      0.886      -0.858       0.741\n",
      "expected_amount                                                   -4.448e-07    3.5e-08    -12.704      0.000   -5.13e-07   -3.76e-07\n",
      "=====================================================================================================================================\n"
     ]
    },
    {
     "name": "stderr",
     "output_type": "stream",
     "text": [
      "C:\\Users\\alisa\\miniconda3\\envs\\chesno\\lib\\site-packages\\statsmodels\\base\\model.py:604: ConvergenceWarning: Maximum Likelihood optimization failed to converge. Check mle_retvals\n",
      "  warnings.warn(\"Maximum Likelihood optimization failed to \"\n"
     ]
    }
   ],
   "source": [
    "from statsmodels.formula.api import mnlogit, logit\n",
    "\n",
    "f = \"status_num ~ expected_amount + C(location) + C(platform) + C(platform_type) + C(capital, Treatment(reference='Культурний')) + C(year)\"\n",
    "logit = mnlogit(data = df, formula = f)\n",
    "logit = logit.fit(method='bfgs')\n",
    "print(logit.summary())"
   ]
  },
  {
   "cell_type": "markdown",
   "metadata": {
    "id": "kNyWKh-hP7zb"
   },
   "source": [
    "Найбільше на модель впливають параметри бюджету проекту, локації та капіталу. Бюджет має від'ємну кореляцію, тобто варто очікувати, що чим менше коштів закладено у проект, тим більша ймовірність, що його підтримають. У людського і соціального капіталу p-value дорівнює 0, а коефіцієнт позитивний, хоча і невеликий. Найбільший коефіцієнт, при низькому p-value, мають міста Харків, Кривий Ріг та Одеса. Схоже, що рік проекту, сума коштів та платформа не надто впливають на цільову.\n",
    "Таким чином, згідно із даною моделлю проекти з категорій людського та соціального капіталу у таких містах як Харків, Кривий Ріг та Одеса мають більше шансів на виграш.\n",
    "\n",
    "У мене залишилось питання, як модель обирає base value, який не врахований у підсумку. Я спробувала змінити його для однієї категорії і значення трохи покращилось.\n",
    "А також знову питання як (і чи можна взагалі) виключати окремі параметри з категоріальних змінних"
   ]
  },
  {
   "cell_type": "markdown",
   "metadata": {
    "id": "WmjJdRrrHUvj"
   },
   "source": [
    "### **Завдання 12** (3 бали)\n",
    "\n",
    "Порахуйте наступні показники точності моделі: recall, precision, f1-score, accuracy, confusion matrix. Прокоментуйте наскільки добре модель пояснює дані."
   ]
  },
  {
   "cell_type": "code",
   "execution_count": 29,
   "metadata": {
    "colab": {
     "base_uri": "https://localhost:8080/"
    },
    "id": "LVi-u-hhTT55",
    "outputId": "28aa8320-435e-405a-f1da-64d98945589c"
   },
   "outputs": [
    {
     "name": "stdout",
     "output_type": "stream",
     "text": [
      "              precision    recall  f1-score   support\n",
      "\n",
      "           0       0.71      0.93      0.81     10569\n",
      "           1       0.67      0.25      0.37      5412\n",
      "\n",
      "    accuracy                           0.70     15981\n",
      "   macro avg       0.69      0.59      0.59     15981\n",
      "weighted avg       0.70      0.70      0.66     15981\n",
      "\n"
     ]
    }
   ],
   "source": [
    "from sklearn.metrics import classification_report\n",
    "\n",
    "preds = logit.predict(df.drop(\"status_num\", axis = 1))\n",
    "\n",
    "print(classification_report(df.status_num, preds.idxmax(axis = 1)))"
   ]
  },
  {
   "cell_type": "markdown",
   "metadata": {
    "id": "5MmIc22qW53m"
   },
   "source": [
    "Ця модель точніше і повніше пояснює клас 0: 71% значень, які дійсно до нього належали були передбачені правильно і 93% з них були знайдені. З проектами, що перемогли передбачення дещо менш точні (67%), але лише 25% позитивних значень з класу 1 були знайдені. Ці ж тенденції показує f1-score. Це значить, що модель досить добре передбачає проекти, що будуть відхилені, але погано - виграшні. Загалом її точність дорівнює 70%.\n"
   ]
  },
  {
   "cell_type": "markdown",
   "metadata": {
    "id": "JXM-U26GHUkK"
   },
   "source": [
    "### **Завдання 13** (3 бали)\n",
    "\n",
    "Порахуйте AUC і намалюйте AUC криву використовуючи **[sklearn.metrics.roc_curve](https://scikit-learn.org/stable/modules/generated/sklearn.metrics.roc_curve.html#sklearn.metrics.roc_curve)** та [приклад1](https://scikit-learn.org/stable/auto_examples/model_selection/plot_roc.html#sphx-glr-auto-examples-model-selection-plot-roc-py) і [приклад2](https://machinelearningmastery.com/roc-curves-and-precision-recall-curves-for-classification-in-python/)"
   ]
  },
  {
   "cell_type": "code",
   "execution_count": 51,
   "metadata": {
    "id": "pFDVYme6oQv8"
   },
   "outputs": [],
   "source": [
    "from sklearn.metrics import roc_curve, roc_auc_score\n",
    "\n",
    "roc_auc = roc_auc_score(df.status_num, preds[1])"
   ]
  },
  {
   "cell_type": "markdown",
   "metadata": {
    "id": "ThIBAAjOkndc"
   },
   "source": [
    "Тут у мене виникла проблема з тим, що коли я подавала на вхід таблицю з вірогідностями preds, виникала помилка ValueError: y should be a 1d array, got an array of shape (15981, 2) instead. Тому я вирішила зробити AUC з позитивним класом"
   ]
  },
  {
   "cell_type": "code",
   "execution_count": 49,
   "metadata": {
    "id": "BmhiSdsHlJb1"
   },
   "outputs": [],
   "source": [
    "fpr, tpr, thresholds = roc_curve(df.status_num, preds[1])"
   ]
  },
  {
   "cell_type": "code",
   "execution_count": 50,
   "metadata": {
    "colab": {
     "base_uri": "https://localhost:8080/"
    },
    "id": "6SSkoVNJnNUQ",
    "outputId": "5bf681ed-cee6-4d0b-b1bd-e9092139cb4b"
   },
   "outputs": [
    {
     "data": {
      "text/plain": [
       "array([1.94072171e+00, 9.40721710e-01, 9.39245433e-01, ...,\n",
       "       2.01840985e-03, 5.88067321e-04, 1.21988865e-04])"
      ]
     },
     "execution_count": 50,
     "metadata": {},
     "output_type": "execute_result"
    }
   ],
   "source": [
    "thresholds"
   ]
  },
  {
   "cell_type": "code",
   "execution_count": 54,
   "metadata": {
    "colab": {
     "base_uri": "https://localhost:8080/",
     "height": 279
    },
    "id": "38fcz5w4nO0w",
    "outputId": "ddbe9561-6c3f-4f89-8845-a3a969287f90"
   },
   "outputs": [
    {
     "data": {
      "image/png": "[encoded data removed]",
      "text/plain": [
       "<Figure size 432x288 with 1 Axes>"
      ]
     },
     "metadata": {
      "needs_background": "light"
     },
     "output_type": "display_data"
    }
   ],
   "source": [
    "plt.figure()\n",
    "lw = 2\n",
    "plt.plot(\n",
    "    fpr,\n",
    "    tpr,\n",
    "    color=\"darkorange\",\n",
    "    lw=lw,\n",
    "    label=\"ROC curve (area = %0.2f)\" % roc_auc,\n",
    ")\n",
    "plt.plot([0, 1], [0, 1], color=\"navy\", lw=lw, linestyle=\"--\")\n",
    "plt.xlim([0.0, 1.0])\n",
    "plt.ylim([0.0, 1.05])\n",
    "plt.xlabel(\"False Positive Rate\")\n",
    "plt.ylabel(\"True Positive Rate\")\n",
    "plt.legend(loc=\"lower right\")\n",
    "plt.show()\n"
   ]
  }
 ],
 "metadata": {
  "colab": {
   "collapsed_sections": [],
   "name": "Copy of Basics Part 2.ipynb",
   "provenance": [],
   "toc_visible": true
  },
  "kernelspec": {
   "display_name": "Python 3 (ipykernel)",
   "language": "python",
   "name": "python3"
  },
  "language_info": {
   "codemirror_mode": {
    "name": "ipython",
    "version": 3
   },
   "file_extension": ".py",
   "mimetype": "text/x-python",
   "name": "python",
   "nbconvert_exporter": "python",
   "pygments_lexer": "ipython3",
   "version": "3.9.7"
  }
 },
 "nbformat": 4,
 "nbformat_minor": 1
}
